{
 "cells": [
  {
   "cell_type": "markdown",
   "metadata": {},
   "source": [
    "**QL Book ch01**"
   ]
  },
  {
   "cell_type": "code",
   "execution_count": 1,
   "metadata": {},
   "outputs": [],
   "source": [
    "#!pip install QuantLib      # QuantLibのインストール"
   ]
  },
  {
   "cell_type": "code",
   "execution_count": 2,
   "metadata": {},
   "outputs": [],
   "source": [
    "import datetime ; import numpy as np ; import matplotlib.pyplot as plt\n",
    "# matplotlibグラフの表示設定(日本語フォントとサイズ、グラフサイズ)\n",
    "plt.rcParams.update({\"font.family\":\"MS Gothic\",\"font.size\":12,\n",
    "                                          \"figure.figsize\":[6,4]})\n",
    "import QuantLib as ql\n",
    "calJP = ql.Japan()     # カレンダーオブジェクトの作成"
   ]
  },
  {
   "cell_type": "code",
   "execution_count": 3,
   "metadata": {
    "scrolled": true
   },
   "outputs": [
    {
     "name": "stdout",
     "output_type": "stream",
     "text": [
      "Help on Japan in module QuantLib.QuantLib object:\n",
      "\n",
      "class Japan(Calendar)\n",
      " |  Proxy of C++ QuantLib::Japan class.\n",
      " |  \n",
      " |  Method resolution order:\n",
      " |      Japan\n",
      " |      Calendar\n",
      " |      builtins.object\n",
      " |  \n",
      " |  Methods defined here:\n",
      " |  \n",
      " |  __init__(self)\n",
      " |      __init__(Japan self) -> Japan\n",
      " |  \n",
      " |  __repr__ = _swig_repr(self)\n",
      " |  \n",
      " |  ----------------------------------------------------------------------\n",
      " |  Static methods defined here:\n",
      " |  \n",
      " |  __swig_destroy__ = delete_Japan(...)\n",
      " |      delete_Japan(Japan self)\n",
      " |  \n",
      " |  ----------------------------------------------------------------------\n",
      " |  Data descriptors defined here:\n",
      " |  \n",
      " |  thisown\n",
      " |      The membership flag\n",
      " |  \n",
      " |  ----------------------------------------------------------------------\n",
      " |  Methods inherited from Calendar:\n",
      " |  \n",
      " |  __eq__(self, other)\n",
      " |      __eq__(Calendar self, Calendar other) -> bool\n",
      " |  \n",
      " |  __hash__(self)\n",
      " |      Return hash(self).\n",
      " |  \n",
      " |  __ne__(self, other)\n",
      " |      __ne__(Calendar self, Calendar other) -> bool\n",
      " |  \n",
      " |  __str__(self)\n",
      " |      __str__(Calendar self) -> std::string\n",
      " |  \n",
      " |  addHoliday(self, arg2)\n",
      " |      addHoliday(Calendar self, Date arg2)\n",
      " |  \n",
      " |  adjust(self, *args)\n",
      " |      adjust(Calendar self, Date d, BusinessDayConvention convention=QuantLib::Following) -> Date\n",
      " |  \n",
      " |  advance(self, *args)\n",
      " |      advance(Calendar self, Date d, Integer n, TimeUnit unit, BusinessDayConvention convention=QuantLib::Following, bool endOfMonth=False) -> Date\n",
      " |      advance(Calendar self, Date d, Period period, BusinessDayConvention convention=QuantLib::Following, bool endOfMonth=False) -> Date\n",
      " |  \n",
      " |  businessDayList(self, _from, to)\n",
      " |      businessDayList(Calendar self, Date _from, Date to) -> DateVector\n",
      " |  \n",
      " |  businessDaysBetween(self, _from, to, includeFirst=True, includeLast=False)\n",
      " |      businessDaysBetween(Calendar self, Date _from, Date to, bool includeFirst=True, bool includeLast=False) -> BigInteger\n",
      " |  \n",
      " |  endOfMonth(self, arg2)\n",
      " |      endOfMonth(Calendar self, Date arg2) -> Date\n",
      " |  \n",
      " |  holidayList(self, _from, to, includeWeekEnds=False)\n",
      " |      holidayList(Calendar self, Date _from, Date to, bool includeWeekEnds=False) -> DateVector\n",
      " |  \n",
      " |  isBusinessDay(self, arg2)\n",
      " |      isBusinessDay(Calendar self, Date arg2) -> bool\n",
      " |  \n",
      " |  isEndOfMonth(self, arg2)\n",
      " |      isEndOfMonth(Calendar self, Date arg2) -> bool\n",
      " |  \n",
      " |  isHoliday(self, arg2)\n",
      " |      isHoliday(Calendar self, Date arg2) -> bool\n",
      " |  \n",
      " |  isWeekend(self, w)\n",
      " |      isWeekend(Calendar self, Weekday w) -> bool\n",
      " |  \n",
      " |  name(self)\n",
      " |      name(Calendar self) -> std::string\n",
      " |  \n",
      " |  removeHoliday(self, arg2)\n",
      " |      removeHoliday(Calendar self, Date arg2)\n",
      " |  \n",
      " |  ----------------------------------------------------------------------\n",
      " |  Data descriptors inherited from Calendar:\n",
      " |  \n",
      " |  __dict__\n",
      " |      dictionary for instance variables (if defined)\n",
      " |  \n",
      " |  __weakref__\n",
      " |      list of weak references to the object (if defined)\n",
      "\n"
     ]
    }
   ],
   "source": [
    "help(calJP)"
   ]
  },
  {
   "cell_type": "code",
   "execution_count": 4,
   "metadata": {},
   "outputs": [
    {
     "data": {
      "text/plain": [
       "True"
      ]
     },
     "execution_count": 4,
     "metadata": {},
     "output_type": "execute_result"
    }
   ],
   "source": [
    "calJP.isHoliday(ql.Date('2022-08-11', '%Y-%m-%d'))"
   ]
  },
  {
   "cell_type": "code",
   "execution_count": 5,
   "metadata": {},
   "outputs": [
    {
     "data": {
      "text/plain": [
       "Date(15,8,2022)"
      ]
     },
     "execution_count": 5,
     "metadata": {},
     "output_type": "execute_result"
    }
   ],
   "source": [
    "calJP.advance(ql.Date('2022-08-10', '%Y-%m-%d'), ql.Period('2d'))"
   ]
  },
  {
   "cell_type": "code",
   "execution_count": 6,
   "metadata": {},
   "outputs": [
    {
     "data": {
      "text/plain": [
       "Date(15,8,2022)"
      ]
     },
     "execution_count": 6,
     "metadata": {},
     "output_type": "execute_result"
    }
   ],
   "source": [
    "calJP.advance(ql.Date('2022-08-10', '%Y-%m-%d'), 2, ql.Days)"
   ]
  },
  {
   "cell_type": "code",
   "execution_count": 7,
   "metadata": {},
   "outputs": [
    {
     "data": {
      "text/plain": [
       "'2022-08-15'"
      ]
     },
     "execution_count": 7,
     "metadata": {},
     "output_type": "execute_result"
    }
   ],
   "source": [
    "(calJP.advance(ql.Date('2022-08-10', '%Y-%m-%d'), 2, ql.Days)).ISO()"
   ]
  },
  {
   "cell_type": "code",
   "execution_count": 8,
   "metadata": {},
   "outputs": [
    {
     "data": {
      "text/plain": [
       "Date(11,8,2022)"
      ]
     },
     "execution_count": 8,
     "metadata": {},
     "output_type": "execute_result"
    }
   ],
   "source": [
    "dt1 = datetime.date.fromisoformat('2022-08-11')\n",
    "ql.Date().from_date(dt1)"
   ]
  },
  {
   "cell_type": "code",
   "execution_count": 9,
   "metadata": {},
   "outputs": [
    {
     "data": {
      "text/plain": [
       "datetime.date(2022, 8, 11)"
      ]
     },
     "execution_count": 9,
     "metadata": {},
     "output_type": "execute_result"
    }
   ],
   "source": [
    "dt2 = ql.Date('2022-08-11', '%Y-%m-%d')\n",
    "dt2.to_date()"
   ]
  },
  {
   "cell_type": "code",
   "execution_count": 10,
   "metadata": {},
   "outputs": [
    {
     "name": "stdout",
     "output_type": "stream",
     "text": [
      "Help on Date in module QuantLib.QuantLib object:\n",
      "\n",
      "class Date(builtins.object)\n",
      " |  Date(*args)\n",
      " |  \n",
      " |  Proxy of C++ Date class.\n",
      " |  \n",
      " |  Methods defined here:\n",
      " |  \n",
      " |  ISO(self)\n",
      " |      ISO(Date self) -> std::string\n",
      " |  \n",
      " |  __add__ = Date_new___add__(self, x)\n",
      " |  \n",
      " |  __bool__(self)\n",
      " |      __bool__(Date self) -> bool\n",
      " |  \n",
      " |  __cmp__(self, other)\n",
      " |      __cmp__(Date self, Date other) -> int\n",
      " |  \n",
      " |  __eq__(self, other)\n",
      " |      __eq__(Date self, Date other) -> bool\n",
      " |  \n",
      " |  __ge__(self, other)\n",
      " |      __ge__(Date self, Date other) -> bool\n",
      " |  \n",
      " |  __gt__(self, other)\n",
      " |      __gt__(Date self, Date other) -> bool\n",
      " |  \n",
      " |  __hash__(self)\n",
      " |      __hash__(Date self) -> int\n",
      " |  \n",
      " |  __init__(self, *args)\n",
      " |      __init__(Date self) -> Date\n",
      " |      __init__(Date self, Day d, Month m, Year y) -> Date\n",
      " |      __init__(Date self, Day d, Month m, Year y, Hour hours, Minute minutes, Second seconds, Millisecond millisec=0, Microsecond microsec=0) -> Date\n",
      " |      __init__(Date self, BigInteger serialNumber) -> Date\n",
      " |      __init__(Date self, std::string const & str, std::string fmt) -> Date\n",
      " |  \n",
      " |  __le__(self, other)\n",
      " |      __le__(Date self, Date other) -> bool\n",
      " |  \n",
      " |  __lt__(self, other)\n",
      " |      __lt__(Date self, Date other) -> bool\n",
      " |  \n",
      " |  __ne__(self, other)\n",
      " |      __ne__(Date self, Date other) -> bool\n",
      " |  \n",
      " |  __nonzero__(self)\n",
      " |      __nonzero__(Date self) -> bool\n",
      " |  \n",
      " |  __repr__(self)\n",
      " |      __repr__(Date self) -> std::string\n",
      " |  \n",
      " |  __str__(self)\n",
      " |      __str__(Date self) -> std::string\n",
      " |  \n",
      " |  __sub__ = Date_new___sub__(self, x)\n",
      " |  \n",
      " |  dayOfMonth(self)\n",
      " |      dayOfMonth(Date self) -> Day\n",
      " |  \n",
      " |  dayOfYear(self)\n",
      " |      dayOfYear(Date self) -> Day\n",
      " |  \n",
      " |  fractionOfDay(self)\n",
      " |      fractionOfDay(Date self) -> Time\n",
      " |  \n",
      " |  fractionOfSecond(self)\n",
      " |      fractionOfSecond(Date self) -> Time\n",
      " |  \n",
      " |  hours(self)\n",
      " |      hours(Date self) -> Hour\n",
      " |  \n",
      " |  microseconds(self)\n",
      " |      microseconds(Date self) -> Microsecond\n",
      " |  \n",
      " |  milliseconds(self)\n",
      " |      milliseconds(Date self) -> Millisecond\n",
      " |  \n",
      " |  minutes(self)\n",
      " |      minutes(Date self) -> Minute\n",
      " |  \n",
      " |  month(self)\n",
      " |      month(Date self) -> Month\n",
      " |  \n",
      " |  seconds(self)\n",
      " |      seconds(Date self) -> Second\n",
      " |  \n",
      " |  serialNumber(self)\n",
      " |      serialNumber(Date self) -> BigInteger\n",
      " |  \n",
      " |  to_date(self)\n",
      " |  \n",
      " |  weekday(self)\n",
      " |      weekday(Date self) -> Weekday\n",
      " |  \n",
      " |  weekdayNumber(self)\n",
      " |      weekdayNumber(Date self) -> Integer\n",
      " |  \n",
      " |  year(self)\n",
      " |      year(Date self) -> Year\n",
      " |  \n",
      " |  ----------------------------------------------------------------------\n",
      " |  Static methods defined here:\n",
      " |  \n",
      " |  __swig_destroy__ = delete_Date(...)\n",
      " |      delete_Date(Date self)\n",
      " |  \n",
      " |  endOfMonth(arg1)\n",
      " |      endOfMonth(Date arg1) -> Date\n",
      " |  \n",
      " |  from_date(date)\n",
      " |  \n",
      " |  isEndOfMonth(arg1)\n",
      " |      isEndOfMonth(Date arg1) -> bool\n",
      " |  \n",
      " |  isLeap(y)\n",
      " |      isLeap(Year y) -> bool\n",
      " |  \n",
      " |  localDateTime()\n",
      " |      localDateTime() -> Date\n",
      " |  \n",
      " |  maxDate()\n",
      " |      maxDate() -> Date\n",
      " |  \n",
      " |  minDate()\n",
      " |      minDate() -> Date\n",
      " |  \n",
      " |  nextWeekday(arg1, arg2)\n",
      " |      nextWeekday(Date arg1, Weekday arg2) -> Date\n",
      " |  \n",
      " |  nthWeekday(n, arg2, m, y)\n",
      " |      nthWeekday(Size n, Weekday arg2, Month m, Year y) -> Date\n",
      " |  \n",
      " |  todaysDate()\n",
      " |      todaysDate() -> Date\n",
      " |  \n",
      " |  universalDateTime()\n",
      " |      universalDateTime() -> Date\n",
      " |  \n",
      " |  ----------------------------------------------------------------------\n",
      " |  Data descriptors defined here:\n",
      " |  \n",
      " |  __dict__\n",
      " |      dictionary for instance variables (if defined)\n",
      " |  \n",
      " |  __weakref__\n",
      " |      list of weak references to the object (if defined)\n",
      " |  \n",
      " |  thisown\n",
      " |      The membership flag\n",
      "\n"
     ]
    }
   ],
   "source": [
    "help(ql.Date())"
   ]
  },
  {
   "cell_type": "code",
   "execution_count": 11,
   "metadata": {},
   "outputs": [
    {
     "data": {
      "text/plain": [
       "Date(19,1,2024)"
      ]
     },
     "execution_count": 11,
     "metadata": {},
     "output_type": "execute_result"
    }
   ],
   "source": [
    "ql.Date().todaysDate()"
   ]
  },
  {
   "cell_type": "code",
   "execution_count": 12,
   "metadata": {},
   "outputs": [
    {
     "data": {
      "text/plain": [
       "((Date(3,8,2022), 0.0),\n",
       " (Date(4,11,2022), 0.01),\n",
       " (Date(3,2,2023), 0.02),\n",
       " (Date(3,8,2023), 0.03))"
      ]
     },
     "execution_count": 12,
     "metadata": {},
     "output_type": "execute_result"
    }
   ],
   "source": [
    "dates = [ql.Date('2022-08-03', '%Y-%m-%d'),ql.Date('2022-11-04', '%Y-%m-%d'), \n",
    "         ql.Date('2023-02-03', '%Y-%m-%d'),ql.Date('2023-08-03', '%Y-%m-%d')]\n",
    "zeros = [0.0, 0.01, 0.02, 0.03]\n",
    "dcA365   = ql.Actual365Fixed()\n",
    "curveOBJ = ql.ZeroCurve(dates, zeros, dcA365, calJP)\n",
    "           # 残り3つの引数の初期値は ql.Linear(), ql.Continuous, ql.Annual\n",
    "curveOBJ.nodes()"
   ]
  },
  {
   "cell_type": "code",
   "execution_count": 13,
   "metadata": {},
   "outputs": [
    {
     "data": {
      "text/plain": [
       "0.9877424354295338"
      ]
     },
     "execution_count": 13,
     "metadata": {},
     "output_type": "execute_result"
    }
   ],
   "source": [
    "#help(curveOBJ)\n",
    "curveOBJ.discount(ql.Date('2023-03-01', '%Y-%m-%d')) "
   ]
  },
  {
   "cell_type": "code",
   "execution_count": 14,
   "metadata": {},
   "outputs": [
    {
     "name": "stdout",
     "output_type": "stream",
     "text": [
      "dayCounter    Actual/365 (Fixed) day counter\n",
      "referenceDate August 3rd, 2022\n",
      "times    0.000000, 0.254795, 0.504110, 1.000000\n",
      "discount 1.000000, 0.997455, 0.989968, 0.970446\n"
     ]
    }
   ],
   "source": [
    "print('dayCounter   ', curveOBJ.dayCounter())\n",
    "print('referenceDate', curveOBJ.referenceDate())\n",
    "print('times    {:.6f}, {:.6f}, {:.6f}, {:.6f}'.format(*curveOBJ.times()) )\n",
    "print('discount {:.6f}, {:.6f}, {:.6f}, {:.6f}'\n",
    "                         .format(*[curveOBJ.discount(dt) for dt in dates]))"
   ]
  },
  {
   "cell_type": "code",
   "execution_count": 15,
   "metadata": {},
   "outputs": [
    {
     "name": "stdout",
     "output_type": "stream",
     "text": [
      "2.491713 % Actual/365 (Fixed) continuous compounding\n"
     ]
    }
   ],
   "source": [
    "rate0503 = curveOBJ.zeroRate(ql.Date('2023-05-03', '%Y-%m-%d'),\n",
    "                                          dcA365, ql.Continuous)\n",
    "print(rate0503)     #print(rate0503.rate())"
   ]
  },
  {
   "cell_type": "code",
   "execution_count": 16,
   "metadata": {},
   "outputs": [
    {
     "data": {
      "image/png": "[encoded data removed]",
      "text/plain": [
       "<Figure size 432x288 with 1 Axes>"
      ]
     },
     "metadata": {
      "needs_background": "light"
     },
     "output_type": "display_data"
    }
   ],
   "source": [
    "cDates, cRates = list(zip(*[(dt.to_date(), rt) for dt,rt in curveOBJ.nodes()]))\n",
    "plt.plot(cDates, cRates, color=\"b\", marker='o')\n",
    "plt.xticks(cDates); plt.ylabel('ゼロレート')\n",
    "plt.grid(linestyle='--',linewidth=1)                            \n",
    "# y軸の%表示\n",
    "import matplotlib as mpl     \n",
    "plt.gca().yaxis.set_major_formatter(mpl.ticker.PercentFormatter(1,3))"
   ]
  },
  {
   "cell_type": "code",
   "execution_count": 17,
   "metadata": {
    "scrolled": true
   },
   "outputs": [
    {
     "data": {
      "image/png": "[encoded data removed]",
      "text/plain": [
       "<Figure size 432x288 with 1 Axes>"
      ]
     },
     "metadata": {
      "needs_background": "light"
     },
     "output_type": "display_data"
    }
   ],
   "source": [
    "curveOBJ.enableExtrapolation()\n",
    "timeTICK = np.linspace(0.0, 30.0, 121)\n",
    "discFCTR = [curveOBJ.discount(t) for t in timeTICK]\n",
    "plt.plot(timeTICK, discFCTR, color=\"b\");plt.ylabel('ディスカウント');plt.xlabel('年')\n",
    "plt.gca().yaxis.set_major_formatter(plt.FormatStrFormatter('%.3f'))  # y軸の桁数\n",
    "plt.grid(linestyle='--',linewidth=1)                                 # グリッド表示"
   ]
  },
  {
   "cell_type": "code",
   "execution_count": 18,
   "metadata": {},
   "outputs": [
    {
     "data": {
      "text/plain": [
       "0.9974585303200065"
      ]
     },
     "execution_count": 18,
     "metadata": {},
     "output_type": "execute_result"
    }
   ],
   "source": [
    "cmpdSPL, freqA = ql.Simple, ql.Annual\n",
    "curveOBJ = ql.ZeroCurve(dates, zeros, dcA365, calJP, ql.Linear(), cmpdSPL, freqA)\n",
    "curveOBJ.discount(ql.Date('2022-11-04', '%Y-%m-%d')) "
   ]
  },
  {
   "cell_type": "code",
   "execution_count": 19,
   "metadata": {},
   "outputs": [
    {
     "data": {
      "text/plain": [
       "((Date(3,8,2022), 1.0),\n",
       " (Date(4,11,2022), 0.9974585303200327),\n",
       " (Date(3,2,2023), 0.9900184441792355),\n",
       " (Date(3,8,2023), 0.9708737864077671))"
      ]
     },
     "execution_count": 19,
     "metadata": {},
     "output_type": "execute_result"
    }
   ],
   "source": [
    "tradeDT = ql.Date('2022-08-01','%Y-%m-%d')\n",
    "ql.Settings.instance().evaluationDate = tradeDT\n",
    "calJP, Tp2 = ql.Japan(), 2                         # Tp2 := T+2\n",
    "settleDT = calJP.advance(tradeDT, Tp2, ql.Days)\n",
    "\n",
    "tbr3m  = ql.Tibor(ql.Period('3M'))\n",
    "tbr6m  = ql.Tibor(ql.Period('6M'))\n",
    "tbr12m = ql.Tibor(ql.Period('12M'))\n",
    "\n",
    "rate3m  = ql.SimpleQuote(0.01)\n",
    "rate6m  = ql.SimpleQuote(0.02)\n",
    "rate12m = ql.SimpleQuote(0.03)\n",
    "\n",
    "helper3m  = ql.DepositRateHelper(ql.QuoteHandle(rate3m),   tbr3m)\n",
    "helper6m  = ql.DepositRateHelper(ql.QuoteHandle(rate6m),   tbr6m) \n",
    "helper12m = ql.DepositRateHelper(ql.QuoteHandle(rate12m),  tbr12m)\n",
    "helpers   = [helper3m, helper6m, helper12m ]\n",
    "\n",
    "curveOBJ = ql.PiecewiseLogLinearDiscount(settleDT, helpers, dcA365)\n",
    "curveOBJ.nodes()"
   ]
  },
  {
   "cell_type": "code",
   "execution_count": 20,
   "metadata": {},
   "outputs": [
    {
     "data": {
      "text/plain": [
       "((Date(3,8,2022), 1.0),\n",
       " (Date(4,11,2022), 0.9949299460284549),\n",
       " (Date(3,2,2023), 0.9900184441792355),\n",
       " (Date(3,8,2023), 0.9708737864077671))"
      ]
     },
     "execution_count": 20,
     "metadata": {},
     "output_type": "execute_result"
    }
   ],
   "source": [
    "rate3m.setValue(0.02)\n",
    "curveOBJ.nodes()"
   ]
  },
  {
   "cell_type": "code",
   "execution_count": 21,
   "metadata": {},
   "outputs": [
    {
     "name": "stdout",
     "output_type": "stream",
     "text": [
      "todayDate:       January 19th, 2024\n",
      "evaluationDate:  August 1st, 2022\n"
     ]
    }
   ],
   "source": [
    "print('todayDate:      ', ql.Date().todaysDate())\n",
    "print('evaluationDate: ', ql.Settings.instance().evaluationDate)"
   ]
  },
  {
   "cell_type": "code",
   "execution_count": 22,
   "metadata": {},
   "outputs": [
    {
     "data": {
      "text/plain": [
       "0.02"
      ]
     },
     "execution_count": 22,
     "metadata": {},
     "output_type": "execute_result"
    }
   ],
   "source": [
    "helper3m.quote().value()"
   ]
  },
  {
   "cell_type": "code",
   "execution_count": 23,
   "metadata": {},
   "outputs": [
    {
     "name": "stdout",
     "output_type": "stream",
     "text": [
      "trade          :  August 1st, 2022\n",
      "settle         :  August 3rd, 2022\n",
      "--------------- ---------------------\n",
      "fixingDays     :  2\n",
      "fixingDate     :  August 1st, 2022 \n",
      "\n",
      "tenor          :  3M\n",
      "dayCounter     :  Actual/365 (Fixed) day counter\n",
      "fixingCalendar :  Japan calendar\n",
      "maturityDate   :  November 4th, 2022\n"
     ]
    }
   ],
   "source": [
    "tradeDT = ql.Date('2022-08-01', '%Y-%m-%d')\n",
    "settleDT = tbr3m.valueDate(tradeDT)         #2022-08-03\n",
    "print('trade          : ', tradeDT)\n",
    "print('settle         : ', settleDT)\n",
    "print('--------------- ---------------------')\n",
    "print('fixingDays     : ', tbr3m.fixingDays())\n",
    "print('fixingDate     : ', tbr3m.fixingDate(settleDT), '\\n')\n",
    "\n",
    "print('tenor          : ', tbr3m.tenor())\n",
    "print('dayCounter     : ', tbr3m.dayCounter())\n",
    "print('fixingCalendar : ', tbr3m.fixingCalendar())\n",
    "print('maturityDate   : ', tbr3m.maturityDate(settleDT))"
   ]
  },
  {
   "cell_type": "code",
   "execution_count": 24,
   "metadata": {},
   "outputs": [
    {
     "data": {
      "text/plain": [
       "0.98724533619916"
      ]
     },
     "execution_count": 24,
     "metadata": {},
     "output_type": "execute_result"
    }
   ],
   "source": [
    "rate3m.setValue(0.01)\n",
    "curveOBJ.discount(ql.Date('2023-03-01', '%Y-%m-%d')) "
   ]
  },
  {
   "cell_type": "code",
   "execution_count": 25,
   "metadata": {},
   "outputs": [
    {
     "name": "stdout",
     "output_type": "stream",
     "text": [
      "Object: 1.000000 % Actual/365 (Fixed) Semiannual compounding\n",
      "rate method: 1.000000%\n"
     ]
    }
   ],
   "source": [
    "import myUtil as mu ; from myABBR import *\n",
    "\n",
    "# InterestRate class  (初期値 1.0%)\n",
    "iRate = 0.01                   \n",
    "iRateOBJ = ql.InterestRate(iRate, dcA365, cmpdCMP, freqSA)\n",
    "print('Object:', iRateOBJ)\n",
    "print('rate method:{: .6%}'.format(iRateOBJ.rate()) )"
   ]
  },
  {
   "cell_type": "code",
   "execution_count": 26,
   "metadata": {},
   "outputs": [
    {
     "data": {
      "text/plain": [
       "0.9974585303200065"
      ]
     },
     "execution_count": 26,
     "metadata": {},
     "output_type": "execute_result"
    }
   ],
   "source": [
    "# FlatForward class\n",
    "ffCrvOBJ = ql.FlatForward(settleDT, iRate, dcA365, cmpdSPL, freqSA)\n",
    "ffCrvHDL = ql.YieldTermStructureHandle(ffCrvOBJ)\n",
    "ffCrvOBJ.discount(mu.jDT(2022,11,4))            # 3ヶ月のDF"
   ]
  },
  {
   "cell_type": "code",
   "execution_count": 27,
   "metadata": {},
   "outputs": [],
   "source": [
    "import QuantLib as ql ; import xlwings as xw\n",
    "import myUtil as mu   ; from myABBR import *\n",
    "@xw.func\n",
    "\n",
    "def tiborDF(r3m, r6m, r12m, tgtDT):\n",
    "    \n",
    "    mu.setEvDT(mu.jDT(2022,8,1))\n",
    "    tbr3m  = ql.Tibor(pdFreqQ )\n",
    "    tbr6m  = ql.Tibor(pdFreqSA)\n",
    "    tbr12m = ql.Tibor(pdFreqA )\n",
    "\n",
    "    rate3mHDL  = mu.sqHDL( r3m)\n",
    "    rate6mHDL  = mu.sqHDL( r6m)\n",
    "    rate12mHDL = mu.sqHDL(r12m)        \n",
    "\n",
    "    helper3m  = ql.DepositRateHelper(rate3mHDL,  tbr3m)\n",
    "    helper6m  = ql.DepositRateHelper(rate6mHDL,  tbr6m) \n",
    "    helper12m = ql.DepositRateHelper(rate12mHDL,tbr12m)\n",
    "    helpers   = [helper3m, helper6m, helper12m ]\n",
    "\n",
    "    curveOBJ = ql.PiecewiseLogLinearDiscount(Tp2, calJP, helpers, dcA365)\n",
    "    curveOBJ.enableExtrapolation()\n",
    "    return curveOBJ.discount(mu.iDT(tgtDT)) "
   ]
  },
  {
   "cell_type": "code",
   "execution_count": 28,
   "metadata": {},
   "outputs": [
    {
     "data": {
      "text/plain": [
       "0.9974585303200327"
      ]
     },
     "execution_count": 28,
     "metadata": {},
     "output_type": "execute_result"
    }
   ],
   "source": [
    "tiborDF(0.01, 0.02, 0.03, '2022-11-04')"
   ]
  },
  {
   "cell_type": "code",
   "execution_count": 29,
   "metadata": {},
   "outputs": [
    {
     "name": "stdout",
     "output_type": "stream",
     "text": [
      "Name: xlwings\n",
      "Version: 0.24.9\n",
      "Summary: Make Excel fly: Interact with Excel from Python and vice versa.\n",
      "Home-page: https://www.xlwings.org\n",
      "Author: Zoomer Analytics LLC\n",
      "Author-email: felix.zumstein@zoomeranalytics.com\n",
      "License: BSD 3-clause\n",
      "Location: c:\\users\\user\\anaconda3\\lib\\site-packages\n",
      "Requires: pywin32\n",
      "Required-by: \n"
     ]
    }
   ],
   "source": [
    "!pip show xlwings\n",
    "#!pip install xlwings"
   ]
  },
  {
   "cell_type": "code",
   "execution_count": 30,
   "metadata": {},
   "outputs": [],
   "source": [
    "import QuantLib as ql ; import xlwings as xw\n",
    "import myUtil as mu   ; from myABBR import *\n",
    "@xw.func\n",
    "@xw.arg('data', ndim=1)\n",
    "def tiborDF2(data):\n",
    "    r3m, r6m, r12m, tgtDT = data\n",
    "    mu.setEvDT(mu.jDT(2022,8,1))\n",
    "    tbr3m  = ql.Tibor(pdFreqQ )\n",
    "    tbr6m  = ql.Tibor(pdFreqSA)\n",
    "    tbr12m = ql.Tibor(pdFreqA )\n",
    "\n",
    "    rate3mHDL  = mu.sqHDL( r3m)\n",
    "    rate6mHDL  = mu.sqHDL( r6m)\n",
    "    rate12mHDL = mu.sqHDL(r12m)        \n",
    "\n",
    "    helper3m  = ql.DepositRateHelper(rate3mHDL,  tbr3m)\n",
    "    helper6m  = ql.DepositRateHelper(rate6mHDL,  tbr6m) \n",
    "    helper12m = ql.DepositRateHelper(rate12mHDL,tbr12m)\n",
    "    helpers   = [helper3m, helper6m, helper12m ]\n",
    "\n",
    "    curveOBJ = ql.PiecewiseLogLinearDiscount(Tp2, calJP, helpers, dcA365)\n",
    "    curveOBJ.enableExtrapolation()\n",
    "    return curveOBJ.discount(mu.iDT(tgtDT)) "
   ]
  },
  {
   "cell_type": "code",
   "execution_count": 31,
   "metadata": {},
   "outputs": [
    {
     "data": {
      "text/plain": [
       "0.9974585303200327"
      ]
     },
     "execution_count": 31,
     "metadata": {},
     "output_type": "execute_result"
    }
   ],
   "source": [
    "x = [0.01, 0.02, 0.03, '2022-11-04']\n",
    "tiborDF2(x)"
   ]
  }
 ],
 "metadata": {
  "interpreter": {
   "hash": "a077222d77dfe082b8f1dd562ad70e458ac2ab76993a0b248ab0476e32e9e8dd"
  },
  "kernelspec": {
   "display_name": "Python 3 (ipykernel)",
   "language": "python",
   "name": "python3"
  },
  "language_info": {
   "codemirror_mode": {
    "name": "ipython",
    "version": 3
   },
   "file_extension": ".py",
   "mimetype": "text/x-python",
   "name": "python",
   "nbconvert_exporter": "python",
   "pygments_lexer": "ipython3",
   "version": "3.9.7"
  }
 },
 "nbformat": 4,
 "nbformat_minor": 2
}
