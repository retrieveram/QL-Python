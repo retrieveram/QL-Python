{
 "cells": [
  {
   "cell_type": "markdown",
   "metadata": {},
   "source": [
    "**QLP Book ch02**"
   ]
  },
  {
   "cell_type": "code",
   "execution_count": 1,
   "metadata": {},
   "outputs": [
    {
     "name": "stdout",
     "output_type": "stream",
     "text": [
      "tradeDT:2022-08-19, referenceDate:2022-08-23\n"
     ]
    },
    {
     "data": {
      "text/html": [
       "<div>\n",
       "<style scoped>\n",
       "    .dataframe tbody tr th:only-of-type {\n",
       "        vertical-align: middle;\n",
       "    }\n",
       "\n",
       "    .dataframe tbody tr th {\n",
       "        vertical-align: top;\n",
       "    }\n",
       "\n",
       "    .dataframe thead th {\n",
       "        text-align: right;\n",
       "    }\n",
       "</style>\n",
       "<table border=\"1\" class=\"dataframe\">\n",
       "  <thead>\n",
       "    <tr style=\"text-align: right;\">\n",
       "      <th></th>\n",
       "      <th>node</th>\n",
       "      <th>DF</th>\n",
       "    </tr>\n",
       "  </thead>\n",
       "  <tbody>\n",
       "    <tr>\n",
       "      <th>0</th>\n",
       "      <td>August 23rd, 2022</td>\n",
       "      <td>1.000000</td>\n",
       "    </tr>\n",
       "    <tr>\n",
       "      <th>1</th>\n",
       "      <td>February 24th, 2023</td>\n",
       "      <td>0.999309</td>\n",
       "    </tr>\n",
       "    <tr>\n",
       "      <th>2</th>\n",
       "      <td>August 23rd, 2023</td>\n",
       "      <td>0.998477</td>\n",
       "    </tr>\n",
       "    <tr>\n",
       "      <th>3</th>\n",
       "      <td>February 26th, 2024</td>\n",
       "      <td>0.997170</td>\n",
       "    </tr>\n",
       "    <tr>\n",
       "      <th>4</th>\n",
       "      <td>August 23rd, 2024</td>\n",
       "      <td>0.995896</td>\n",
       "    </tr>\n",
       "    <tr>\n",
       "      <th>5</th>\n",
       "      <td>August 25th, 2025</td>\n",
       "      <td>0.993059</td>\n",
       "    </tr>\n",
       "  </tbody>\n",
       "</table>\n",
       "</div>"
      ],
      "text/plain": [
       "                  node        DF\n",
       "0    August 23rd, 2022  1.000000\n",
       "1  February 24th, 2023  0.999309\n",
       "2    August 23rd, 2023  0.998477\n",
       "3  February 26th, 2024  0.997170\n",
       "4    August 23rd, 2024  0.995896\n",
       "5    August 25th, 2025  0.993059"
      ]
     },
     "execution_count": 1,
     "metadata": {},
     "output_type": "execute_result"
    }
   ],
   "source": [
    "import QuantLib as ql ; import pandas as pd\n",
    "import myUtil as mu   ; from myABBR import *\n",
    "tradeDT  = mu.jDT(2022,8,19) ; mu.setEvDT(tradeDT)\n",
    "settleDT = calJP.advance(tradeDT, Tp2, ql.Days)\n",
    "\n",
    "# 1.指標金利オブジェクト\n",
    "curveHDL = ql.RelinkableYieldTermStructureHandle()  \n",
    "tbrIX    = ql.Tibor(pdFreqSA, curveHDL)\n",
    "# 2.ヘルパーとカーブオブジェクト\n",
    "cHelper, tbParRATE = [], []\n",
    "for knd, tnr, rt in \\\n",
    "        [('depo','6m',0.13636), ('swap','1y',0.15249), ('swap','18m',0.18742),\n",
    "         ('swap','2y',0.20541), ('swap','3y',0.23156), ('swap','4y',0.25653),\n",
    "         ('swap','5y',0.28528), ('swap','6y',0.32341), ('swap','7y',0.36591)]:\n",
    "    if knd == 'depo': cHelper.append(ql.DepositRateHelper(mu.sqHDL(rt/100),tbrIX)) \n",
    "    if knd == 'swap': cHelper.append(ql.SwapRateHelper(   mu.sqHDL(rt/100), \n",
    "                             ql.Period(tnr), calJP, freqSA, mFLLW, dcA365, tbrIX))\n",
    "    tbParRATE.append(rt/100)                                   # パーレート用リスト\n",
    "    \n",
    "curveOBJ = ql.PiecewiseLogLinearDiscount(Tp2, calJP, cHelper, dcA365)\n",
    "curveHDL.linkTo(curveOBJ) ; curveOBJ.enableExtrapolation()\n",
    "# checking\n",
    "print('tradeDT:{}, referenceDate:{}'\n",
    "                .format(tradeDT.ISO(),curveOBJ.referenceDate().ISO()))\n",
    "pd.DataFrame(curveOBJ.nodes(), columns=['node','DF'])[:6]"
   ]
  },
  {
   "cell_type": "code",
   "execution_count": 2,
   "metadata": {},
   "outputs": [
    {
     "data": {
      "text/plain": [
       "(Date(23,8,2022),\n",
       " Date(24,2,2023),\n",
       " Date(23,8,2023),\n",
       " Date(26,2,2024),\n",
       " Date(23,8,2024))"
      ]
     },
     "execution_count": 2,
     "metadata": {},
     "output_type": "execute_result"
    }
   ],
   "source": [
    "effDT, matDT = mu.jDT(2022,8,23), mu.jDT(2024,8,23)\n",
    "\n",
    "fixSCD2 = ql.MakeSchedule(effDT, matDT, pdFreqSA, \n",
    "                calendar=calJP, rule=dtGENb, endOfMonth=EoMf, \n",
    "                convention=mFLLW, terminalDateConvention=mFLLW)\n",
    "fixSCD2.dates()"
   ]
  },
  {
   "cell_type": "code",
   "execution_count": 3,
   "metadata": {},
   "outputs": [
    {
     "data": {
      "text/plain": [
       "[]"
      ]
     },
     "execution_count": 3,
     "metadata": {},
     "output_type": "execute_result"
    }
   ],
   "source": [
    "[(dt, vl) for dt, vl in zip(tbrIX.timeSeries().dates(), tbrIX.timeSeries().values())]"
   ]
  },
  {
   "cell_type": "code",
   "execution_count": 4,
   "metadata": {},
   "outputs": [
    {
     "data": {
      "text/html": [
       "<div>\n",
       "<style scoped>\n",
       "    .dataframe tbody tr th:only-of-type {\n",
       "        vertical-align: middle;\n",
       "    }\n",
       "\n",
       "    .dataframe tbody tr th {\n",
       "        vertical-align: top;\n",
       "    }\n",
       "\n",
       "    .dataframe thead th {\n",
       "        text-align: right;\n",
       "    }\n",
       "</style>\n",
       "<table border=\"1\" class=\"dataframe\">\n",
       "  <thead>\n",
       "    <tr style=\"text-align: right;\">\n",
       "      <th></th>\n",
       "      <th>A</th>\n",
       "      <th>B</th>\n",
       "      <th>C</th>\n",
       "    </tr>\n",
       "  </thead>\n",
       "  <tbody>\n",
       "    <tr>\n",
       "      <th>0</th>\n",
       "      <td>1</td>\n",
       "      <td>2</td>\n",
       "      <td>3</td>\n",
       "    </tr>\n",
       "    <tr>\n",
       "      <th>1</th>\n",
       "      <td>4</td>\n",
       "      <td>5</td>\n",
       "      <td>6</td>\n",
       "    </tr>\n",
       "  </tbody>\n",
       "</table>\n",
       "</div>"
      ],
      "text/plain": [
       "   A  B  C\n",
       "0  1  2  3\n",
       "1  4  5  6"
      ]
     },
     "metadata": {},
     "output_type": "display_data"
    },
    {
     "data": {
      "text/html": [
       "<div>\n",
       "<style scoped>\n",
       "    .dataframe tbody tr th:only-of-type {\n",
       "        vertical-align: middle;\n",
       "    }\n",
       "\n",
       "    .dataframe tbody tr th {\n",
       "        vertical-align: top;\n",
       "    }\n",
       "\n",
       "    .dataframe thead th {\n",
       "        text-align: right;\n",
       "    }\n",
       "</style>\n",
       "<table border=\"1\" class=\"dataframe\">\n",
       "  <thead>\n",
       "    <tr style=\"text-align: right;\">\n",
       "      <th></th>\n",
       "      <th>A</th>\n",
       "      <th>B</th>\n",
       "      <th>C</th>\n",
       "    </tr>\n",
       "  </thead>\n",
       "  <tbody>\n",
       "    <tr>\n",
       "      <th>0</th>\n",
       "      <td>1</td>\n",
       "      <td>2</td>\n",
       "      <td>3</td>\n",
       "    </tr>\n",
       "    <tr>\n",
       "      <th>1</th>\n",
       "      <td>4</td>\n",
       "      <td>5</td>\n",
       "      <td>6</td>\n",
       "    </tr>\n",
       "  </tbody>\n",
       "</table>\n",
       "</div>"
      ],
      "text/plain": [
       "   A  B  C\n",
       "0  1  2  3\n",
       "1  4  5  6"
      ]
     },
     "metadata": {},
     "output_type": "display_data"
    }
   ],
   "source": [
    "# タプル -> データフレーム\n",
    "display( pd.DataFrame( \n",
    "                    ([1, 2, 3],\n",
    "                     [4, 5, 6]) , columns=['A', 'B', 'C']) )\n",
    "# 辞書型 -> データフレーム\n",
    "display( pd.DataFrame(\n",
    "                ({'A':1, 'B':2,'C':3},\n",
    "                 {'A':4, 'B':5,'C':6}) ,    index=[0, 1] ) )"
   ]
  },
  {
   "cell_type": "markdown",
   "metadata": {},
   "source": [
    "- makeTiborCurve() "
   ]
  },
  {
   "cell_type": "code",
   "execution_count": 5,
   "metadata": {},
   "outputs": [],
   "source": [
    "# TIBORカーブ\n",
    "def makeTiborCurve(crvDATA):\n",
    "    '''makeTiborCurve(crvDATA)->[tbrIX,tbCrvOBJ,tbCrvHDL,tbParRATE]'''\n",
    "  # 1.指標金利オブジェクト\n",
    "    tbCrvHDL = ql.RelinkableYieldTermStructureHandle() \n",
    "    tbrIX    = ql.Tibor(pdFreqSA, tbCrvHDL)\n",
    "  # 2. HelperとTONAカーブオブジェクト\n",
    "    cHelper, tbParRATE = [], []\n",
    "    for knd, tnr, rt in crvDATA:\n",
    "       if knd == 'depo': cHelper.append(ql.DepositRateHelper(mu.sqHDL(rt/100),tbrIX)) \n",
    "       if knd == 'swap': cHelper.append(ql.SwapRateHelper(   mu.sqHDL(rt/100),\n",
    "                                ql.Period(tnr), calJP, freqSA, mFLLW, dcA365, tbrIX))\n",
    "       tbParRATE.append(rt/100)                            # パーレート用リスト\n",
    "    tbCrvOBJ = ql.PiecewiseLogLinearDiscount(Tp2, calJP, cHelper, dcA365)\n",
    "    tbCrvHDL.linkTo(tbCrvOBJ) ; tbCrvOBJ.enableExtrapolation()\n",
    "    return [tbrIX, tbCrvOBJ, tbCrvHDL, tbParRATE]  # 4つのオブジェクトを戻す  "
   ]
  },
  {
   "cell_type": "markdown",
   "metadata": {},
   "source": [
    "- Tiborスワップ"
   ]
  },
  {
   "cell_type": "code",
   "execution_count": 6,
   "metadata": {},
   "outputs": [
    {
     "name": "stdout",
     "output_type": "stream",
     "text": [
      "checking curve DF: 0.993059 at August 25th, 2025\n",
      "tradeDT:2022-08-19, referenceDate:2022-08-23\n"
     ]
    },
    {
     "data": {
      "text/html": [
       "<div>\n",
       "<style scoped>\n",
       "    .dataframe tbody tr th:only-of-type {\n",
       "        vertical-align: middle;\n",
       "    }\n",
       "\n",
       "    .dataframe tbody tr th {\n",
       "        vertical-align: top;\n",
       "    }\n",
       "\n",
       "    .dataframe thead th {\n",
       "        text-align: right;\n",
       "    }\n",
       "</style>\n",
       "<table border=\"1\" class=\"dataframe\">\n",
       "  <thead>\n",
       "    <tr style=\"text-align: right;\">\n",
       "      <th></th>\n",
       "      <th>計算結果</th>\n",
       "      <th></th>\n",
       "    </tr>\n",
       "  </thead>\n",
       "  <tbody>\n",
       "    <tr>\n",
       "      <th>0</th>\n",
       "      <td>固定レグ時価</td>\n",
       "      <td>-239781.110343</td>\n",
       "    </tr>\n",
       "    <tr>\n",
       "      <th>1</th>\n",
       "      <td>変動レグ時価</td>\n",
       "      <td>41044.531563</td>\n",
       "    </tr>\n",
       "    <tr>\n",
       "      <th>2</th>\n",
       "      <td>スワップ時価 NPV</td>\n",
       "      <td>-198736.578780</td>\n",
       "    </tr>\n",
       "    <tr>\n",
       "      <th>3</th>\n",
       "      <td>フェアレート</td>\n",
       "      <td>0.002054</td>\n",
       "    </tr>\n",
       "    <tr>\n",
       "      <th>4</th>\n",
       "      <td>フェアスプレッド</td>\n",
       "      <td>0.009946</td>\n",
       "    </tr>\n",
       "  </tbody>\n",
       "</table>\n",
       "</div>"
      ],
      "text/plain": [
       "         計算結果               \n",
       "0      固定レグ時価 -239781.110343\n",
       "1      変動レグ時価   41044.531563\n",
       "2  スワップ時価 NPV -198736.578780\n",
       "3      フェアレート       0.002054\n",
       "4    フェアスプレッド       0.009946"
      ]
     },
     "execution_count": 6,
     "metadata": {},
     "output_type": "execute_result"
    }
   ],
   "source": [
    "import QuantLib as ql ; import pandas as pd\n",
    "import myUtil as mu   ; from myABBR import *\n",
    "tradeDT  = mu.jDT(2022,8,19) ; mu.setEvDT(tradeDT)\n",
    "settleDT = calJP.advance(tradeDT, Tp2, ql.Days)\n",
    "# 1.イールドカーブ オブジェクト\n",
    "crvDATA = [('depo','6m',0.13636), ('swap','1y',0.15249), ('swap','18m',0.18742),\n",
    "           ('swap','2y',0.20541), ('swap','3y',0.23156), ('swap','4y',0.25653),\n",
    "           ('swap','5y',0.28528), ('swap','6y',0.32341), ('swap','7y',0.36591)]\n",
    "tbrIX, tbCrvOBJ, tbCrvHDL, tbParRATE = mu.makeTiborCurve(crvDATA)\n",
    "print('checking curve DF: {1:.6f} at {0}'.format(*tbCrvOBJ.nodes()[5]))\n",
    "\n",
    "# 2.スケジュール オブジェクト \n",
    "effDT, matDT = mu.jDT(2022,8,23), mu.jDT(2024,8,23)\n",
    "fixSCD = ql.Schedule(effDT, matDT, pdFreqSA, calJP, mFLLW, mFLLW, dtGENb, EoMf)\n",
    "fltSCD = ql.Schedule(effDT, matDT, pdFreqSA, calJP, mFLLW, mFLLW, dtGENb, EoMf)\n",
    "\n",
    "# 3.スワップオブジェクトとエンジン\n",
    "payRcv,                ntlAMT,     cpnRT,   sprd                 = \\\n",
    "ql.VanillaSwap.Payer, 10_000_000,  0.012 ,   0.0\n",
    "\n",
    "swapOBJ = ql.VanillaSwap(payRcv, ntlAMT, fixSCD, cpnRT,       dcA365,\n",
    "                                         fltSCD, tbrIX, sprd, dcA365)\n",
    "swapENG = ql.DiscountingSwapEngine(tbCrvHDL)\n",
    "swapOBJ.setPricingEngine(swapENG)\n",
    "\n",
    "# 計算結果\n",
    "print('tradeDT:{}, referenceDate:{}'\n",
    "                .format(tradeDT.ISO(),tbCrvOBJ.referenceDate().ISO()))\n",
    "pd.DataFrame([  \n",
    "    ['固定レグ時価'    ,swapOBJ.legNPV(0)],   ['変動レグ時価',swapOBJ.legNPV(1)],\n",
    "    ['スワップ時価 NPV',swapOBJ.NPV()],       ['フェアレート',swapOBJ.fairRate()],\n",
    "    ['フェアスプレッド',swapOBJ.fairSpread()]         ], columns=['計算結果', '']) "
   ]
  },
  {
   "cell_type": "markdown",
   "metadata": {},
   "source": [
    "- MakeSchedule"
   ]
  },
  {
   "cell_type": "code",
   "execution_count": 7,
   "metadata": {},
   "outputs": [
    {
     "name": "stdout",
     "output_type": "stream",
     "text": [
      "[Date(23,8,2022), Date(24,2,2023), Date(23,8,2023), Date(26,2,2024), Date(23,8,2024)]\n"
     ]
    }
   ],
   "source": [
    "fixSCDmk = ql.MakeSchedule(effDT, matDT, pdFreqSA, calendar=calJP)\n",
    "print(list(fixSCDmk))"
   ]
  },
  {
   "cell_type": "markdown",
   "metadata": {},
   "source": [
    "- 変動レグ キャッシュフロー表"
   ]
  },
  {
   "cell_type": "code",
   "execution_count": 8,
   "metadata": {},
   "outputs": [
    {
     "data": {
      "text/html": [
       "<style type=\"text/css\">\n",
       "</style>\n",
       "<table id=\"T_cbdae_\">\n",
       "  <thead>\n",
       "    <tr>\n",
       "      <th class=\"blank level0\" >&nbsp;</th>\n",
       "      <th class=\"col_heading level0 col0\" >fixingDate</th>\n",
       "      <th class=\"col_heading level0 col1\" >accruStart</th>\n",
       "      <th class=\"col_heading level0 col2\" >accruEnd</th>\n",
       "      <th class=\"col_heading level0 col3\" >payDate</th>\n",
       "      <th class=\"col_heading level0 col4\" >days</th>\n",
       "      <th class=\"col_heading level0 col5\" >rate</th>\n",
       "      <th class=\"col_heading level0 col6\" >spread</th>\n",
       "      <th class=\"col_heading level0 col7\" >amount</th>\n",
       "      <th class=\"col_heading level0 col8\" >DF</th>\n",
       "    </tr>\n",
       "  </thead>\n",
       "  <tbody>\n",
       "    <tr>\n",
       "      <th id=\"T_cbdae_level0_row0\" class=\"row_heading level0 row0\" >0</th>\n",
       "      <td id=\"T_cbdae_row0_col0\" class=\"data row0 col0\" >2022-08-19</td>\n",
       "      <td id=\"T_cbdae_row0_col1\" class=\"data row0 col1\" >2022-08-23</td>\n",
       "      <td id=\"T_cbdae_row0_col2\" class=\"data row0 col2\" >2023-02-24</td>\n",
       "      <td id=\"T_cbdae_row0_col3\" class=\"data row0 col3\" >2023-02-24</td>\n",
       "      <td id=\"T_cbdae_row0_col4\" class=\"data row0 col4\" >185</td>\n",
       "      <td id=\"T_cbdae_row0_col5\" class=\"data row0 col5\" >0.136360%</td>\n",
       "      <td id=\"T_cbdae_row0_col6\" class=\"data row0 col6\" >0.00%</td>\n",
       "      <td id=\"T_cbdae_row0_col7\" class=\"data row0 col7\" >6,911.40</td>\n",
       "      <td id=\"T_cbdae_row0_col8\" class=\"data row0 col8\" >0.99930934</td>\n",
       "    </tr>\n",
       "    <tr>\n",
       "      <th id=\"T_cbdae_level0_row1\" class=\"row_heading level0 row1\" >1</th>\n",
       "      <td id=\"T_cbdae_row1_col0\" class=\"data row1 col0\" >2023-02-21</td>\n",
       "      <td id=\"T_cbdae_row1_col1\" class=\"data row1 col1\" >2023-02-24</td>\n",
       "      <td id=\"T_cbdae_row1_col2\" class=\"data row1 col2\" >2023-08-23</td>\n",
       "      <td id=\"T_cbdae_row1_col3\" class=\"data row1 col3\" >2023-08-23</td>\n",
       "      <td id=\"T_cbdae_row1_col4\" class=\"data row1 col4\" >180</td>\n",
       "      <td id=\"T_cbdae_row1_col5\" class=\"data row1 col5\" >0.169082%</td>\n",
       "      <td id=\"T_cbdae_row1_col6\" class=\"data row1 col6\" >0.00%</td>\n",
       "      <td id=\"T_cbdae_row1_col7\" class=\"data row1 col7\" >8,338.28</td>\n",
       "      <td id=\"T_cbdae_row1_col8\" class=\"data row1 col8\" >0.99847678</td>\n",
       "    </tr>\n",
       "    <tr>\n",
       "      <th id=\"T_cbdae_level0_row2\" class=\"row_heading level0 row2\" >2</th>\n",
       "      <td id=\"T_cbdae_row2_col0\" class=\"data row2 col0\" >2023-08-21</td>\n",
       "      <td id=\"T_cbdae_row2_col1\" class=\"data row2 col1\" >2023-08-23</td>\n",
       "      <td id=\"T_cbdae_row2_col2\" class=\"data row2 col2\" >2024-02-26</td>\n",
       "      <td id=\"T_cbdae_row2_col3\" class=\"data row2 col3\" >2024-02-26</td>\n",
       "      <td id=\"T_cbdae_row2_col4\" class=\"data row2 col4\" >187</td>\n",
       "      <td id=\"T_cbdae_row2_col5\" class=\"data row2 col5\" >0.255717%</td>\n",
       "      <td id=\"T_cbdae_row2_col6\" class=\"data row2 col6\" >0.00%</td>\n",
       "      <td id=\"T_cbdae_row2_col7\" class=\"data row2 col7\" >13,101.12</td>\n",
       "      <td id=\"T_cbdae_row2_col8\" class=\"data row2 col8\" >0.99717037</td>\n",
       "    </tr>\n",
       "    <tr>\n",
       "      <th id=\"T_cbdae_level0_row3\" class=\"row_heading level0 row3\" >3</th>\n",
       "      <td id=\"T_cbdae_row3_col0\" class=\"data row3 col0\" >2024-02-21</td>\n",
       "      <td id=\"T_cbdae_row3_col1\" class=\"data row3 col1\" >2024-02-26</td>\n",
       "      <td id=\"T_cbdae_row3_col2\" class=\"data row3 col2\" >2024-08-23</td>\n",
       "      <td id=\"T_cbdae_row3_col3\" class=\"data row3 col3\" >2024-08-23</td>\n",
       "      <td id=\"T_cbdae_row3_col4\" class=\"data row3 col4\" >179</td>\n",
       "      <td id=\"T_cbdae_row3_col5\" class=\"data row3 col5\" >0.261022%</td>\n",
       "      <td id=\"T_cbdae_row3_col6\" class=\"data row3 col6\" >0.00%</td>\n",
       "      <td id=\"T_cbdae_row3_col7\" class=\"data row3 col7\" >12,800.82</td>\n",
       "      <td id=\"T_cbdae_row3_col8\" class=\"data row3 col8\" >0.99589555</td>\n",
       "    </tr>\n",
       "  </tbody>\n",
       "</table>\n"
      ],
      "text/plain": [
       "<pandas.io.formats.style.Styler at 0x169d066d700>"
      ]
     },
     "execution_count": 8,
     "metadata": {},
     "output_type": "execute_result"
    }
   ],
   "source": [
    "dfSWP = pd.DataFrame({\n",
    "    'fixingDate': cpn.fixingDate().ISO(),\n",
    "    'accruStart': cpn.accrualStartDate().ISO(),\n",
    "    'accruEnd':   cpn.accrualEndDate().ISO(),\n",
    "    'payDate':    cpn.date(),                             # Date class(No ISO form)\n",
    "    'days':       dcA365.dayCount(cpn.accrualStartDate(),cpn.accrualEndDate()),\n",
    "    'rate':       cpn.rate(),\n",
    "    'spread':     cpn.spread(),\n",
    "    'amount':     cpn.amount(),\n",
    "    } for cpn in map(ql.as_floating_rate_coupon, swapOBJ.leg(1)))       #変動レグ=1\n",
    "# ディスカウントファクター(DF)\n",
    "psDF = [1.0                   for dt in dfSWP.payDate if dt <= settleDT] #past   DF\n",
    "fuDF = [tbCrvOBJ.discount(dt) for dt in dfSWP.payDate if settleDT < dt ] #future DF\n",
    "dfSWP = pd.concat([dfSWP, pd.DataFrame(psDF+fuDF, columns=['DF']) ], axis=1)\n",
    "dfSWP.payDate = dfSWP.payDate.map(lambda x: x.ISO())                         # ISOへ\n",
    "\n",
    "dfSWP.style.format({'rate':'{:.6%}','spread':'{:.2%}','amount':'{:,.2f}','DF':'{:.8f}'})"
   ]
  },
  {
   "cell_type": "markdown",
   "metadata": {},
   "source": [
    "- イテレータ/ジェネレータ"
   ]
  },
  {
   "cell_type": "code",
   "execution_count": 9,
   "metadata": {},
   "outputs": [
    {
     "name": "stdout",
     "output_type": "stream",
     "text": [
      "df1 \n",
      "    A  B\n",
      "0  1  2\n",
      "1  2  4\n",
      "2  3  6\n",
      "df2 \n",
      "    A  B\n",
      "0  1  2\n",
      "1  2  4\n",
      "2  3  6\n"
     ]
    }
   ],
   "source": [
    "df1 = pd.DataFrame([{'A':1, 'B':1*2}, {'A':2, 'B':2*2}, {'A':3, 'B':3*2}])\n",
    "df2 = pd.DataFrame({'A':x,  'B':x*2} for x in range(1,4))\n",
    "print('df1 \\n', df1) ; print('df2 \\n', df2)"
   ]
  },
  {
   "cell_type": "markdown",
   "metadata": {},
   "source": [
    "- Swapキャッシュフロー表"
   ]
  },
  {
   "cell_type": "code",
   "execution_count": 10,
   "metadata": {},
   "outputs": [],
   "source": [
    "def swapCashFlow(swapOBJ, curveOBJ, leg=1, dc=dcA365): \n",
    "    '''swapCashFlow(swapOBJ, curveOBJ, leg=1:FLoat  0:Fix)-> DataFrame)'''  \n",
    "    if leg == 1:  # 変動ﾚｸﾞ leg(1)\n",
    "        dfSWP = pd.DataFrame({\n",
    "            'fixingDate': cpn.fixingDate().ISO(),\n",
    "            'accruStart': cpn.accrualStartDate().ISO(),\n",
    "            'accruEnd':   cpn.accrualEndDate().ISO(),\n",
    "            'payDate':    cpn.date(),                            # No ISO form\n",
    "            'days':       dc.dayCount(cpn.accrualStartDate(),cpn.accrualEndDate()),\n",
    "            'rate':       cpn.rate(),\n",
    "            'spread':     cpn.spread(),\n",
    "            'amount':     cpn.amount(),\n",
    "            } for cpn in map(ql.as_floating_rate_coupon, swapOBJ.leg(1)))\n",
    "    else:          # 固定ﾚｸﾞ leg(0)\n",
    "        dfSWP = pd.DataFrame({\n",
    "            'nominal':    cpn.nominal(),\n",
    "            'accruStart': cpn.accrualStartDate().ISO(),\n",
    "            'accruEnd':   cpn.accrualEndDate().ISO(),\n",
    "            'payDate':    cpn.date(),\n",
    "            'days':       dc.dayCount(cpn.accrualStartDate(),cpn.accrualEndDate()),\n",
    "            'rate':       cpn.rate(),\n",
    "            'amount':     cpn.amount()\n",
    "            } for cpn in map(ql.as_fixed_rate_coupon, swapOBJ.leg(0)))\n",
    "    # ディスカウントファクター(DF)\n",
    "    settleDT = curveOBJ.referenceDate()\n",
    "    psDF = [1.0                   for dt in dfSWP.payDate if dt <= settleDT] # past   DF\n",
    "    fuDF = [curveOBJ.discount(dt) for dt in dfSWP.payDate if settleDT < dt ] # future DF\n",
    "    dfSWP = pd.concat([dfSWP, pd.DataFrame(psDF+fuDF, columns=['DF']) ], axis=1)\n",
    "    dfSWP.payDate = dfSWP.payDate.map(lambda x: x.ISO())                        # ISOへ\n",
    "    return dfSWP"
   ]
  },
  {
   "cell_type": "markdown",
   "metadata": {},
   "source": [
    "**Fixing**"
   ]
  },
  {
   "cell_type": "code",
   "execution_count": 11,
   "metadata": {},
   "outputs": [],
   "source": [
    "tbrIX.addFixing(mu.jDT(2022,8,19),0.13636/100,True)"
   ]
  },
  {
   "cell_type": "code",
   "execution_count": 12,
   "metadata": {},
   "outputs": [
    {
     "data": {
      "text/html": [
       "<style type=\"text/css\">\n",
       "</style>\n",
       "<table id=\"T_963a5_\">\n",
       "  <thead>\n",
       "    <tr>\n",
       "      <th class=\"blank level0\" >&nbsp;</th>\n",
       "      <th class=\"col_heading level0 col0\" >fixingDate</th>\n",
       "      <th class=\"col_heading level0 col1\" >accruStart</th>\n",
       "      <th class=\"col_heading level0 col2\" >accruEnd</th>\n",
       "      <th class=\"col_heading level0 col3\" >payDate</th>\n",
       "      <th class=\"col_heading level0 col4\" >days</th>\n",
       "      <th class=\"col_heading level0 col5\" >rate</th>\n",
       "      <th class=\"col_heading level0 col6\" >spread</th>\n",
       "      <th class=\"col_heading level0 col7\" >amount</th>\n",
       "      <th class=\"col_heading level0 col8\" >DF</th>\n",
       "    </tr>\n",
       "  </thead>\n",
       "  <tbody>\n",
       "    <tr>\n",
       "      <th id=\"T_963a5_level0_row0\" class=\"row_heading level0 row0\" >0</th>\n",
       "      <td id=\"T_963a5_row0_col0\" class=\"data row0 col0\" >2022-08-19</td>\n",
       "      <td id=\"T_963a5_row0_col1\" class=\"data row0 col1\" >2022-08-23</td>\n",
       "      <td id=\"T_963a5_row0_col2\" class=\"data row0 col2\" >2023-02-24</td>\n",
       "      <td id=\"T_963a5_row0_col3\" class=\"data row0 col3\" >2023-02-24</td>\n",
       "      <td id=\"T_963a5_row0_col4\" class=\"data row0 col4\" >185</td>\n",
       "      <td id=\"T_963a5_row0_col5\" class=\"data row0 col5\" >0.136360%</td>\n",
       "      <td id=\"T_963a5_row0_col6\" class=\"data row0 col6\" >0.00%</td>\n",
       "      <td id=\"T_963a5_row0_col7\" class=\"data row0 col7\" >6,911.40</td>\n",
       "      <td id=\"T_963a5_row0_col8\" class=\"data row0 col8\" >1.00000000</td>\n",
       "    </tr>\n",
       "    <tr>\n",
       "      <th id=\"T_963a5_level0_row1\" class=\"row_heading level0 row1\" >1</th>\n",
       "      <td id=\"T_963a5_row1_col0\" class=\"data row1 col0\" >2023-02-21</td>\n",
       "      <td id=\"T_963a5_row1_col1\" class=\"data row1 col1\" >2023-02-24</td>\n",
       "      <td id=\"T_963a5_row1_col2\" class=\"data row1 col2\" >2023-08-23</td>\n",
       "      <td id=\"T_963a5_row1_col3\" class=\"data row1 col3\" >2023-08-23</td>\n",
       "      <td id=\"T_963a5_row1_col4\" class=\"data row1 col4\" >180</td>\n",
       "      <td id=\"T_963a5_row1_col5\" class=\"data row1 col5\" >0.100000%</td>\n",
       "      <td id=\"T_963a5_row1_col6\" class=\"data row1 col6\" >0.00%</td>\n",
       "      <td id=\"T_963a5_row1_col7\" class=\"data row1 col7\" >4,931.51</td>\n",
       "      <td id=\"T_963a5_row1_col8\" class=\"data row1 col8\" >0.99960048</td>\n",
       "    </tr>\n",
       "    <tr>\n",
       "      <th id=\"T_963a5_level0_row2\" class=\"row_heading level0 row2\" >2</th>\n",
       "      <td id=\"T_963a5_row2_col0\" class=\"data row2 col0\" >2023-08-21</td>\n",
       "      <td id=\"T_963a5_row2_col1\" class=\"data row2 col1\" >2023-08-23</td>\n",
       "      <td id=\"T_963a5_row2_col2\" class=\"data row2 col2\" >2024-02-26</td>\n",
       "      <td id=\"T_963a5_row2_col3\" class=\"data row2 col3\" >2024-02-26</td>\n",
       "      <td id=\"T_963a5_row2_col4\" class=\"data row2 col4\" >187</td>\n",
       "      <td id=\"T_963a5_row2_col5\" class=\"data row2 col5\" >0.155450%</td>\n",
       "      <td id=\"T_963a5_row2_col6\" class=\"data row2 col6\" >0.00%</td>\n",
       "      <td id=\"T_963a5_row2_col7\" class=\"data row2 col7\" >7,964.13</td>\n",
       "      <td id=\"T_963a5_row2_col8\" class=\"data row2 col8\" >0.99880502</td>\n",
       "    </tr>\n",
       "    <tr>\n",
       "      <th id=\"T_963a5_level0_row3\" class=\"row_heading level0 row3\" >3</th>\n",
       "      <td id=\"T_963a5_row3_col0\" class=\"data row3 col0\" >2024-02-21</td>\n",
       "      <td id=\"T_963a5_row3_col1\" class=\"data row3 col1\" >2024-02-26</td>\n",
       "      <td id=\"T_963a5_row3_col2\" class=\"data row3 col2\" >2024-08-23</td>\n",
       "      <td id=\"T_963a5_row3_col3\" class=\"data row3 col3\" >2024-08-23</td>\n",
       "      <td id=\"T_963a5_row3_col4\" class=\"data row3 col4\" >179</td>\n",
       "      <td id=\"T_963a5_row3_col5\" class=\"data row3 col5\" >0.221531%</td>\n",
       "      <td id=\"T_963a5_row3_col6\" class=\"data row3 col6\" >0.00%</td>\n",
       "      <td id=\"T_963a5_row3_col7\" class=\"data row3 col7\" >10,864.14</td>\n",
       "      <td id=\"T_963a5_row3_col8\" class=\"data row3 col8\" >0.99772108</td>\n",
       "    </tr>\n",
       "  </tbody>\n",
       "</table>\n"
      ],
      "text/plain": [
       "<pandas.io.formats.style.Styler at 0x169d0669370>"
      ]
     },
     "execution_count": 12,
     "metadata": {},
     "output_type": "execute_result"
    }
   ],
   "source": [
    "# 新しい日付設定\n",
    "tradeDT  = mu.jDT(2023,5,1) ; mu.setEvDT(tradeDT)\n",
    "settleDT = calJP.advance(tradeDT, Tp2, ql.Days)\n",
    "\n",
    "# # fixing dateとfixing例\n",
    "prevPayDT = settleDT if swapOBJ.floatingSchedule().startDate() >= settleDT \\\n",
    "                   else swapOBJ.floatingSchedule().previousDate(settleDT)\n",
    "fixedDT = calJP.advance(prevPayDT, -ql.Period(str(Tp2)+'d'))\n",
    "tbrIX.addFixing(fixedDT,0.1/100,True)\n",
    "\n",
    "# float leg CF (leg=1)\n",
    "dfFixCF = mu.swapCashFlow(swapOBJ, tbCrvOBJ, leg=1)\n",
    "dfFixCF.style.format({'rate':'{:.6%}','spread':'{:.2%}','amount':'{:,.2f}','DF':'{:.8f}'})"
   ]
  },
  {
   "cell_type": "code",
   "execution_count": 13,
   "metadata": {},
   "outputs": [
    {
     "data": {
      "text/plain": [
       "[(Date(19,8,2022), 0.0013636000000000002), (Date(21,2,2023), 0.001)]"
      ]
     },
     "execution_count": 13,
     "metadata": {},
     "output_type": "execute_result"
    }
   ],
   "source": [
    "[(dt, va) for dt, va in zip(tbrIX.timeSeries().dates(), \n",
    "                            tbrIX.timeSeries().values())]"
   ]
  },
  {
   "cell_type": "markdown",
   "metadata": {},
   "source": [
    "- 固定レグ"
   ]
  },
  {
   "cell_type": "code",
   "execution_count": 14,
   "metadata": {},
   "outputs": [],
   "source": [
    "# 日付を元へ戻す\n",
    "tradeDT  = mu.jDT(2022,8,19) ; mu.setEvDT(tradeDT)\n",
    "settleDT = calJP.advance(tradeDT, Tp2, ql.Days)"
   ]
  },
  {
   "cell_type": "code",
   "execution_count": 15,
   "metadata": {},
   "outputs": [
    {
     "data": {
      "text/html": [
       "<style type=\"text/css\">\n",
       "</style>\n",
       "<table id=\"T_200e0_\">\n",
       "  <thead>\n",
       "    <tr>\n",
       "      <th class=\"blank level0\" >&nbsp;</th>\n",
       "      <th class=\"col_heading level0 col0\" >nominal</th>\n",
       "      <th class=\"col_heading level0 col1\" >accruStart</th>\n",
       "      <th class=\"col_heading level0 col2\" >accruEnd</th>\n",
       "      <th class=\"col_heading level0 col3\" >payDate</th>\n",
       "      <th class=\"col_heading level0 col4\" >days</th>\n",
       "      <th class=\"col_heading level0 col5\" >rate</th>\n",
       "      <th class=\"col_heading level0 col6\" >amount</th>\n",
       "      <th class=\"col_heading level0 col7\" >DF</th>\n",
       "    </tr>\n",
       "  </thead>\n",
       "  <tbody>\n",
       "    <tr>\n",
       "      <th id=\"T_200e0_level0_row0\" class=\"row_heading level0 row0\" >0</th>\n",
       "      <td id=\"T_200e0_row0_col0\" class=\"data row0 col0\" >10,000,000.00</td>\n",
       "      <td id=\"T_200e0_row0_col1\" class=\"data row0 col1\" >2022-08-23</td>\n",
       "      <td id=\"T_200e0_row0_col2\" class=\"data row0 col2\" >2023-02-24</td>\n",
       "      <td id=\"T_200e0_row0_col3\" class=\"data row0 col3\" >2023-02-24</td>\n",
       "      <td id=\"T_200e0_row0_col4\" class=\"data row0 col4\" >185</td>\n",
       "      <td id=\"T_200e0_row0_col5\" class=\"data row0 col5\" >1.200000%</td>\n",
       "      <td id=\"T_200e0_row0_col6\" class=\"data row0 col6\" >60,821.92</td>\n",
       "      <td id=\"T_200e0_row0_col7\" class=\"data row0 col7\" >0.99930934</td>\n",
       "    </tr>\n",
       "    <tr>\n",
       "      <th id=\"T_200e0_level0_row1\" class=\"row_heading level0 row1\" >1</th>\n",
       "      <td id=\"T_200e0_row1_col0\" class=\"data row1 col0\" >10,000,000.00</td>\n",
       "      <td id=\"T_200e0_row1_col1\" class=\"data row1 col1\" >2023-02-24</td>\n",
       "      <td id=\"T_200e0_row1_col2\" class=\"data row1 col2\" >2023-08-23</td>\n",
       "      <td id=\"T_200e0_row1_col3\" class=\"data row1 col3\" >2023-08-23</td>\n",
       "      <td id=\"T_200e0_row1_col4\" class=\"data row1 col4\" >180</td>\n",
       "      <td id=\"T_200e0_row1_col5\" class=\"data row1 col5\" >1.200000%</td>\n",
       "      <td id=\"T_200e0_row1_col6\" class=\"data row1 col6\" >59,178.08</td>\n",
       "      <td id=\"T_200e0_row1_col7\" class=\"data row1 col7\" >0.99847678</td>\n",
       "    </tr>\n",
       "    <tr>\n",
       "      <th id=\"T_200e0_level0_row2\" class=\"row_heading level0 row2\" >2</th>\n",
       "      <td id=\"T_200e0_row2_col0\" class=\"data row2 col0\" >10,000,000.00</td>\n",
       "      <td id=\"T_200e0_row2_col1\" class=\"data row2 col1\" >2023-08-23</td>\n",
       "      <td id=\"T_200e0_row2_col2\" class=\"data row2 col2\" >2024-02-26</td>\n",
       "      <td id=\"T_200e0_row2_col3\" class=\"data row2 col3\" >2024-02-26</td>\n",
       "      <td id=\"T_200e0_row2_col4\" class=\"data row2 col4\" >187</td>\n",
       "      <td id=\"T_200e0_row2_col5\" class=\"data row2 col5\" >1.200000%</td>\n",
       "      <td id=\"T_200e0_row2_col6\" class=\"data row2 col6\" >61,479.45</td>\n",
       "      <td id=\"T_200e0_row2_col7\" class=\"data row2 col7\" >0.99717037</td>\n",
       "    </tr>\n",
       "    <tr>\n",
       "      <th id=\"T_200e0_level0_row3\" class=\"row_heading level0 row3\" >3</th>\n",
       "      <td id=\"T_200e0_row3_col0\" class=\"data row3 col0\" >10,000,000.00</td>\n",
       "      <td id=\"T_200e0_row3_col1\" class=\"data row3 col1\" >2024-02-26</td>\n",
       "      <td id=\"T_200e0_row3_col2\" class=\"data row3 col2\" >2024-08-23</td>\n",
       "      <td id=\"T_200e0_row3_col3\" class=\"data row3 col3\" >2024-08-23</td>\n",
       "      <td id=\"T_200e0_row3_col4\" class=\"data row3 col4\" >179</td>\n",
       "      <td id=\"T_200e0_row3_col5\" class=\"data row3 col5\" >1.200000%</td>\n",
       "      <td id=\"T_200e0_row3_col6\" class=\"data row3 col6\" >58,849.32</td>\n",
       "      <td id=\"T_200e0_row3_col7\" class=\"data row3 col7\" >0.99589555</td>\n",
       "    </tr>\n",
       "  </tbody>\n",
       "</table>\n"
      ],
      "text/plain": [
       "<pandas.io.formats.style.Styler at 0x169cd93fc70>"
      ]
     },
     "metadata": {},
     "output_type": "display_data"
    },
    {
     "name": "stdout",
     "output_type": "stream",
     "text": [
      "アニュイティ: 1.998175919523169\n"
     ]
    }
   ],
   "source": [
    "# fixed leg CF (leg=0)\n",
    "dfFixCF = mu.swapCashFlow(swapOBJ, tbCrvOBJ, leg=0)\n",
    "display( dfFixCF.style.format(\n",
    "    {'nominal':'{:,.2f}', 'rate':'{:.6%}', 'amount':'{:,.2f}','DF':'{:.8f}'}) )\n",
    "print('アニュイティ:', (dfFixCF.days/365 * dfFixCF.DF).sum() )"
   ]
  },
  {
   "cell_type": "markdown",
   "metadata": {},
   "source": [
    "**7. フォワードスワップレート**"
   ]
  },
  {
   "cell_type": "code",
   "execution_count": 16,
   "metadata": {},
   "outputs": [
    {
     "name": "stdout",
     "output_type": "stream",
     "text": [
      "discount factors:  [0.99717037 0.99589555 0.99445706 0.99305925]\n",
      "tenor list      :  [0.51232877 0.49041096 0.50958904 0.49589041]\n",
      "アニュイティ     :  1.998490138388628\n"
     ]
    }
   ],
   "source": [
    "import numpy as np ; import myUtil as mu ; \n",
    "# フォワードスワップのスケジュールオブジェクト\n",
    "effDTf, matDTf = mu.jDT(2023,8,23), mu.jDT(2025,8,23) \n",
    "fixSCDf = ql.Schedule(effDTf, matDTf, pdFreqSA, calJP, mFLLW, mFLLW, dtGENb, EoMf)\n",
    "\n",
    "# アニュイティ計算\n",
    "discFCT = np.array([tbCrvOBJ.discount(d) for d in fixSCDf][1:]) \n",
    "tnrLST = np.diff([dcA365.yearFraction(fixSCDf.startDate(), d) for d in fixSCDf]) \n",
    "annuity = np.sum(tnrLST * discFCT)\n",
    "\n",
    "print('discount factors: ', discFCT)\n",
    "print('tenor list      : ', tnrLST)\n",
    "print('アニュイティ     : ', annuity)"
   ]
  },
  {
   "cell_type": "code",
   "execution_count": 17,
   "metadata": {},
   "outputs": [
    {
     "name": "stdout",
     "output_type": "stream",
     "text": [
      "Fixed(leg0) NPV : -239,818.82\n",
      "Float(leg1) NPV : 54,175.33\n",
      "Swap NPV        : -185,643.49\n",
      "fairRate        :  0.271081%\n",
      "fairSpread      :  0.928919%\n"
     ]
    }
   ],
   "source": [
    "# 3.スケジュールオブジェクト(フォワードスワップ) \n",
    "effDTf, matDTf = mu.jDT(2023,8,23), mu.jDT(2025,8,23) \n",
    "fixSCDf = ql.Schedule(effDTf, matDTf, pdFreqSA, calJP, mFLLW, mFLLW, dtGENb, EoMf)\n",
    "fltSCDf = ql.Schedule(effDTf, matDTf, pdFreqSA, calJP, mFLLW, mFLLW, dtGENb, EoMf)\n",
    "\n",
    "# 4.スワップオブジェクトの作成とエンジンの設定\n",
    "swapOBJf = ql.VanillaSwap(ql.VanillaSwap.Payer, ntlAMT, fixSCDf,      cpnRT, dcA365,\n",
    "                                                       fltSCDf, tbrIX, sprd, dcA365)\n",
    "swapENGf = ql.DiscountingSwapEngine(tbCrvHDL)\n",
    "swapOBJf.setPricingEngine(swapENGf)\n",
    "\n",
    "# 5. 計算結果\n",
    "print('Fixed(leg0) NPV : {:,.2f}'.format(swapOBJf.legNPV(0)))\n",
    "print('Float(leg1) NPV : {:,.2f}'.format(swapOBJf.legNPV(1)))\n",
    "print('Swap NPV        : {:,.2f}'.format(swapOBJf.NPV()))\n",
    "print('fairRate        : {: .6%}'.format(swapOBJf.fairRate()))\n",
    "print('fairSpread      : {: .6%}'.format(swapOBJf.fairSpread()))"
   ]
  },
  {
   "cell_type": "code",
   "execution_count": 18,
   "metadata": {},
   "outputs": [
    {
     "data": {
      "text/html": [
       "<style type=\"text/css\">\n",
       "</style>\n",
       "<table id=\"T_a26a8_\">\n",
       "  <thead>\n",
       "    <tr>\n",
       "      <th class=\"blank level0\" >&nbsp;</th>\n",
       "      <th class=\"col_heading level0 col0\" >nominal</th>\n",
       "      <th class=\"col_heading level0 col1\" >accruStart</th>\n",
       "      <th class=\"col_heading level0 col2\" >accruEnd</th>\n",
       "      <th class=\"col_heading level0 col3\" >payDate</th>\n",
       "      <th class=\"col_heading level0 col4\" >days</th>\n",
       "      <th class=\"col_heading level0 col5\" >rate</th>\n",
       "      <th class=\"col_heading level0 col6\" >amount</th>\n",
       "      <th class=\"col_heading level0 col7\" >DF</th>\n",
       "    </tr>\n",
       "  </thead>\n",
       "  <tbody>\n",
       "    <tr>\n",
       "      <th id=\"T_a26a8_level0_row0\" class=\"row_heading level0 row0\" >0</th>\n",
       "      <td id=\"T_a26a8_row0_col0\" class=\"data row0 col0\" >10,000,000.00</td>\n",
       "      <td id=\"T_a26a8_row0_col1\" class=\"data row0 col1\" >2023-08-23</td>\n",
       "      <td id=\"T_a26a8_row0_col2\" class=\"data row0 col2\" >2024-02-26</td>\n",
       "      <td id=\"T_a26a8_row0_col3\" class=\"data row0 col3\" >2024-02-26</td>\n",
       "      <td id=\"T_a26a8_row0_col4\" class=\"data row0 col4\" >187</td>\n",
       "      <td id=\"T_a26a8_row0_col5\" class=\"data row0 col5\" >1.20000%</td>\n",
       "      <td id=\"T_a26a8_row0_col6\" class=\"data row0 col6\" >61,479.45</td>\n",
       "      <td id=\"T_a26a8_row0_col7\" class=\"data row0 col7\" >0.99717037</td>\n",
       "    </tr>\n",
       "    <tr>\n",
       "      <th id=\"T_a26a8_level0_row1\" class=\"row_heading level0 row1\" >1</th>\n",
       "      <td id=\"T_a26a8_row1_col0\" class=\"data row1 col0\" >10,000,000.00</td>\n",
       "      <td id=\"T_a26a8_row1_col1\" class=\"data row1 col1\" >2024-02-26</td>\n",
       "      <td id=\"T_a26a8_row1_col2\" class=\"data row1 col2\" >2024-08-23</td>\n",
       "      <td id=\"T_a26a8_row1_col3\" class=\"data row1 col3\" >2024-08-23</td>\n",
       "      <td id=\"T_a26a8_row1_col4\" class=\"data row1 col4\" >179</td>\n",
       "      <td id=\"T_a26a8_row1_col5\" class=\"data row1 col5\" >1.20000%</td>\n",
       "      <td id=\"T_a26a8_row1_col6\" class=\"data row1 col6\" >58,849.32</td>\n",
       "      <td id=\"T_a26a8_row1_col7\" class=\"data row1 col7\" >0.99589555</td>\n",
       "    </tr>\n",
       "    <tr>\n",
       "      <th id=\"T_a26a8_level0_row2\" class=\"row_heading level0 row2\" >2</th>\n",
       "      <td id=\"T_a26a8_row2_col0\" class=\"data row2 col0\" >10,000,000.00</td>\n",
       "      <td id=\"T_a26a8_row2_col1\" class=\"data row2 col1\" >2024-08-23</td>\n",
       "      <td id=\"T_a26a8_row2_col2\" class=\"data row2 col2\" >2025-02-25</td>\n",
       "      <td id=\"T_a26a8_row2_col3\" class=\"data row2 col3\" >2025-02-25</td>\n",
       "      <td id=\"T_a26a8_row2_col4\" class=\"data row2 col4\" >186</td>\n",
       "      <td id=\"T_a26a8_row2_col5\" class=\"data row2 col5\" >1.20000%</td>\n",
       "      <td id=\"T_a26a8_row2_col6\" class=\"data row2 col6\" >61,150.68</td>\n",
       "      <td id=\"T_a26a8_row2_col7\" class=\"data row2 col7\" >0.99445706</td>\n",
       "    </tr>\n",
       "    <tr>\n",
       "      <th id=\"T_a26a8_level0_row3\" class=\"row_heading level0 row3\" >3</th>\n",
       "      <td id=\"T_a26a8_row3_col0\" class=\"data row3 col0\" >10,000,000.00</td>\n",
       "      <td id=\"T_a26a8_row3_col1\" class=\"data row3 col1\" >2025-02-25</td>\n",
       "      <td id=\"T_a26a8_row3_col2\" class=\"data row3 col2\" >2025-08-25</td>\n",
       "      <td id=\"T_a26a8_row3_col3\" class=\"data row3 col3\" >2025-08-25</td>\n",
       "      <td id=\"T_a26a8_row3_col4\" class=\"data row3 col4\" >181</td>\n",
       "      <td id=\"T_a26a8_row3_col5\" class=\"data row3 col5\" >1.20000%</td>\n",
       "      <td id=\"T_a26a8_row3_col6\" class=\"data row3 col6\" >59,506.85</td>\n",
       "      <td id=\"T_a26a8_row3_col7\" class=\"data row3 col7\" >0.99305925</td>\n",
       "    </tr>\n",
       "  </tbody>\n",
       "</table>\n"
      ],
      "text/plain": [
       "<pandas.io.formats.style.Styler at 0x169d2472370>"
      ]
     },
     "metadata": {},
     "output_type": "display_data"
    },
    {
     "name": "stdout",
     "output_type": "stream",
     "text": [
      "アニュイティ: 1.9984901383886282\n"
     ]
    }
   ],
   "source": [
    "# 固定ﾚｸﾞ leg(0)\n",
    "cf0 = pd.DataFrame({\n",
    "    'nominal':    cf.nominal(),\n",
    "    'accruStart': cf.accrualStartDate().ISO(),\n",
    "    'accruEnd':   cf.accrualEndDate().ISO(),\n",
    "    'payDate':    cf.date().ISO(),\n",
    "    'days':       cf.accrualEndDate() - cf.accrualStartDate(),\n",
    "    'rate':       cf.rate(),\n",
    "    'amount':     cf.amount(),\n",
    "    'DF':         tbCrvOBJ.discount(cf.date())\n",
    "    } for cf in map(ql.as_coupon, swapOBJf.leg(0)))\n",
    "\n",
    "display( cf0.style.format({'nominal':'{:,.2f}', 'days':'{:.0f}', 'rate':'{:.5%}', \n",
    "                  'amount':'{:,.2f}', 'DF':'{:.8f}' }) )\n",
    "print('アニュイティ:', (cf0.days/365 * cf0.DF).sum() )"
   ]
  },
  {
   "cell_type": "code",
   "execution_count": null,
   "metadata": {},
   "outputs": [],
   "source": []
  }
 ],
 "metadata": {
  "interpreter": {
   "hash": "a077222d77dfe082b8f1dd562ad70e458ac2ab76993a0b248ab0476e32e9e8dd"
  },
  "kernelspec": {
   "display_name": "Python 3 (ipykernel)",
   "language": "python",
   "name": "python3"
  },
  "language_info": {
   "codemirror_mode": {
    "name": "ipython",
    "version": 3
   },
   "file_extension": ".py",
   "mimetype": "text/x-python",
   "name": "python",
   "nbconvert_exporter": "python",
   "pygments_lexer": "ipython3",
   "version": "3.9.7"
  }
 },
 "nbformat": 4,
 "nbformat_minor": 2
}
