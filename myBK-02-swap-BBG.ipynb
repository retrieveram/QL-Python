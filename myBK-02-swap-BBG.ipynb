{
 "cells": [
  {
   "cell_type": "markdown",
   "metadata": {},
   "source": [
    "### 第2章 スワップカーブと金利スワップ"
   ]
  },
  {
   "cell_type": "markdown",
   "metadata": {},
   "source": [
    "**2. QuantLibによるTiborスワップの評価**"
   ]
  },
  {
   "cell_type": "markdown",
   "metadata": {},
   "source": [
    "- [addfixing](https://quant.stackexchange.com/questions/39421/fixing-rate-in-quantlib)"
   ]
  },
  {
   "cell_type": "code",
   "execution_count": 1,
   "metadata": {},
   "outputs": [
    {
     "data": {
      "text/html": [
       "<div>\n",
       "<style scoped>\n",
       "    .dataframe tbody tr th:only-of-type {\n",
       "        vertical-align: middle;\n",
       "    }\n",
       "\n",
       "    .dataframe tbody tr th {\n",
       "        vertical-align: top;\n",
       "    }\n",
       "\n",
       "    .dataframe thead th {\n",
       "        text-align: right;\n",
       "    }\n",
       "</style>\n",
       "<table border=\"1\" class=\"dataframe\">\n",
       "  <thead>\n",
       "    <tr style=\"text-align: right;\">\n",
       "      <th></th>\n",
       "      <th>計算結果</th>\n",
       "      <th></th>\n",
       "    </tr>\n",
       "  </thead>\n",
       "  <tbody>\n",
       "    <tr>\n",
       "      <th>0</th>\n",
       "      <td>固定レグ時価</td>\n",
       "      <td>-239781.110343</td>\n",
       "    </tr>\n",
       "    <tr>\n",
       "      <th>1</th>\n",
       "      <td>変動レグ時価</td>\n",
       "      <td>41044.531563</td>\n",
       "    </tr>\n",
       "    <tr>\n",
       "      <th>2</th>\n",
       "      <td>スワップ時価 NPV</td>\n",
       "      <td>-198736.578780</td>\n",
       "    </tr>\n",
       "    <tr>\n",
       "      <th>3</th>\n",
       "      <td>フェアレート</td>\n",
       "      <td>0.002054</td>\n",
       "    </tr>\n",
       "    <tr>\n",
       "      <th>4</th>\n",
       "      <td>フェアスプレッド</td>\n",
       "      <td>0.009946</td>\n",
       "    </tr>\n",
       "  </tbody>\n",
       "</table>\n",
       "</div>"
      ],
      "text/plain": [
       "         計算結果               \n",
       "0      固定レグ時価 -239781.110343\n",
       "1      変動レグ時価   41044.531563\n",
       "2  スワップ時価 NPV -198736.578780\n",
       "3      フェアレート       0.002054\n",
       "4    フェアスプレッド       0.009946"
      ]
     },
     "execution_count": 1,
     "metadata": {},
     "output_type": "execute_result"
    }
   ],
   "source": [
    "import QuantLib as ql; import pandas as pd\n",
    "def jDT(yyyy,mm,dd): return ql.Date(dd,mm,yyyy)\n",
    "\n",
    "# 0.カーブ用 初期値\n",
    "tradeDT,          Tp2,          freqSA,          calJP             =\\\n",
    "jDT(2022,8,19),    2,       ql.Semiannual,     ql.Japan()\n",
    "\n",
    "mFLLW,                        dcA365,             pdFreqSA         =\\\n",
    "ql.ModifiedFollowing,   ql.Actual365Fixed(),   ql.Period(freqSA)\n",
    "\n",
    "settleDT = calJP.advance(tradeDT, Tp2, ql.Days)\n",
    "ql.Settings.instance().evaluationDate = tradeDT\n",
    "\n",
    "# 1.変動レグの指標金利オブジェクト\n",
    "curveHDL = ql.RelinkableYieldTermStructureHandle()  \n",
    "tbrIX = ql.Tibor(pdFreqSA, curveHDL)\n",
    "\n",
    "# 2.RateHelperとイールドカーブオブジェクト\n",
    "cHelper =[]\n",
    "cHelper.append( ql.DepositRateHelper(\n",
    "                  ql.QuoteHandle(ql.SimpleQuote(0.13636/100)), tbrIX ))\n",
    "for tnr, rt in \\\n",
    "    [('1y', 0.15249), ('18m', 0.18742), ('2y', 0.20541), ('3y', 0.23156), \n",
    "     ('4y', 0.25653), ('5y', 0.28528), ('6y', 0.32341), ('7y', 0.36591), \n",
    "     ('8y', 0.40906), ('9y', 0.45471), ('10y', 0.50224)                ]:\n",
    "    cHelper.append(ql.SwapRateHelper(\n",
    "                ql.QuoteHandle(ql.SimpleQuote(rt/100)), ql.Period(tnr), \n",
    "                calJP, freqSA, mFLLW, dcA365, tbrIX))\n",
    "\n",
    "curveOBJ = ql.PiecewiseLogLinearDiscount(Tp2, calJP, cHelper, dcA365)\n",
    "#             PiecewiseFlatForwardと同じ\n",
    "curveHDL.linkTo(curveOBJ) ; curveOBJ.enableExtrapolation()\n",
    "\n",
    "# 3.スケジュールオブジェクト \n",
    "effDT,              matDT,          dgRULEb,                 EoMf       =\\\n",
    "jDT(2022,8,23), jDT(2024,8,23), ql.DateGeneration.Backward,  False\n",
    "\n",
    "fixSCD = ql.Schedule(effDT, matDT, pdFreqSA, calJP, mFLLW, mFLLW, dgRULEb, EoMf)\n",
    "fltSCD = ql.Schedule(effDT, matDT, pdFreqSA, calJP, mFLLW, mFLLW, dgRULEb, EoMf)\n",
    "# 4.スワップオブジェクトの作成とエンジンの設定\n",
    "payRcv,                ntlAMT,      cpn,      fixedIX,      sprd          = \\\n",
    "ql.VanillaSwap.Payer, 10_000_000,  0.012 ,   0.13636/100,   0.0\n",
    "\n",
    "swapOBJ = ql.VanillaSwap(payRcv, ntlAMT, fixSCD, cpn,         dcA365,\n",
    "                                         fltSCD, tbrIX, sprd, dcA365)\n",
    "swapENG = ql.DiscountingSwapEngine(curveHDL)\n",
    "swapOBJ.setPricingEngine(swapENG)\n",
    "\n",
    "# 現在のfixed指標金利の設定\n",
    "prevPayDT = settleDT if swapOBJ.floatingSchedule().startDate() >= settleDT \\\n",
    "                   else swapOBJ.floatingSchedule().previousDate(settleDT)\n",
    "fixedDT = calJP.advance(prevPayDT, -ql.Period(str(Tp2)+'d'))\n",
    "tbrIX.addFixing(fixedDT,fixedIX,True)\n",
    "\n",
    "# 5. 計算結果\n",
    "pd.DataFrame([  \n",
    "    ['固定レグ時価'    ,swapOBJ.legNPV(0)],   ['変動レグ時価',swapOBJ.legNPV(1)],\n",
    "    ['スワップ時価 NPV',swapOBJ.NPV()],       ['フェアレート',swapOBJ.fairRate()],\n",
    "    ['フェアスプレッド',swapOBJ.fairSpread()]         ], columns=['計算結果', '']) "
   ]
  },
  {
   "cell_type": "markdown",
   "metadata": {},
   "source": [
    "- MakeScheduleの入力例"
   ]
  },
  {
   "cell_type": "code",
   "execution_count": 2,
   "metadata": {},
   "outputs": [
    {
     "data": {
      "text/plain": [
       "(Date(23,8,2022),\n",
       " Date(24,2,2023),\n",
       " Date(23,8,2023),\n",
       " Date(26,2,2024),\n",
       " Date(23,8,2024))"
      ]
     },
     "execution_count": 2,
     "metadata": {},
     "output_type": "execute_result"
    }
   ],
   "source": [
    "fixSCD2 = ql.MakeSchedule(effDT, matDT, pdFreqSA, \n",
    "                calendar=calJP, rule=dgRULEb, endOfMonth=EoMf, \n",
    "                convention=mFLLW, terminalDateConvention=mFLLW)\n",
    "fixSCD2.dates()"
   ]
  },
  {
   "cell_type": "code",
   "execution_count": 3,
   "metadata": {},
   "outputs": [
    {
     "data": {
      "text/html": [
       "<div>\n",
       "<style scoped>\n",
       "    .dataframe tbody tr th:only-of-type {\n",
       "        vertical-align: middle;\n",
       "    }\n",
       "\n",
       "    .dataframe tbody tr th {\n",
       "        vertical-align: top;\n",
       "    }\n",
       "\n",
       "    .dataframe thead th {\n",
       "        text-align: right;\n",
       "    }\n",
       "</style>\n",
       "<table border=\"1\" class=\"dataframe\">\n",
       "  <thead>\n",
       "    <tr style=\"text-align: right;\">\n",
       "      <th></th>\n",
       "      <th>node</th>\n",
       "      <th>DF</th>\n",
       "    </tr>\n",
       "  </thead>\n",
       "  <tbody>\n",
       "    <tr>\n",
       "      <th>0</th>\n",
       "      <td>August 23rd, 2022</td>\n",
       "      <td>1.000000</td>\n",
       "    </tr>\n",
       "    <tr>\n",
       "      <th>1</th>\n",
       "      <td>February 24th, 2023</td>\n",
       "      <td>0.999309</td>\n",
       "    </tr>\n",
       "    <tr>\n",
       "      <th>2</th>\n",
       "      <td>August 23rd, 2023</td>\n",
       "      <td>0.998477</td>\n",
       "    </tr>\n",
       "    <tr>\n",
       "      <th>3</th>\n",
       "      <td>February 26th, 2024</td>\n",
       "      <td>0.997170</td>\n",
       "    </tr>\n",
       "    <tr>\n",
       "      <th>4</th>\n",
       "      <td>August 23rd, 2024</td>\n",
       "      <td>0.995896</td>\n",
       "    </tr>\n",
       "    <tr>\n",
       "      <th>5</th>\n",
       "      <td>August 25th, 2025</td>\n",
       "      <td>0.993059</td>\n",
       "    </tr>\n",
       "    <tr>\n",
       "      <th>6</th>\n",
       "      <td>August 24th, 2026</td>\n",
       "      <td>0.989777</td>\n",
       "    </tr>\n",
       "    <tr>\n",
       "      <th>7</th>\n",
       "      <td>August 23rd, 2027</td>\n",
       "      <td>0.985823</td>\n",
       "    </tr>\n",
       "    <tr>\n",
       "      <th>8</th>\n",
       "      <td>August 23rd, 2028</td>\n",
       "      <td>0.980744</td>\n",
       "    </tr>\n",
       "    <tr>\n",
       "      <th>9</th>\n",
       "      <td>August 23rd, 2029</td>\n",
       "      <td>0.974642</td>\n",
       "    </tr>\n",
       "    <tr>\n",
       "      <th>10</th>\n",
       "      <td>August 23rd, 2030</td>\n",
       "      <td>0.967686</td>\n",
       "    </tr>\n",
       "    <tr>\n",
       "      <th>11</th>\n",
       "      <td>August 25th, 2031</td>\n",
       "      <td>0.959683</td>\n",
       "    </tr>\n",
       "    <tr>\n",
       "      <th>12</th>\n",
       "      <td>August 23rd, 2032</td>\n",
       "      <td>0.950695</td>\n",
       "    </tr>\n",
       "  </tbody>\n",
       "</table>\n",
       "</div>"
      ],
      "text/plain": [
       "                   node        DF\n",
       "0     August 23rd, 2022  1.000000\n",
       "1   February 24th, 2023  0.999309\n",
       "2     August 23rd, 2023  0.998477\n",
       "3   February 26th, 2024  0.997170\n",
       "4     August 23rd, 2024  0.995896\n",
       "5     August 25th, 2025  0.993059\n",
       "6     August 24th, 2026  0.989777\n",
       "7     August 23rd, 2027  0.985823\n",
       "8     August 23rd, 2028  0.980744\n",
       "9     August 23rd, 2029  0.974642\n",
       "10    August 23rd, 2030  0.967686\n",
       "11    August 25th, 2031  0.959683\n",
       "12    August 23rd, 2032  0.950695"
      ]
     },
     "execution_count": 3,
     "metadata": {},
     "output_type": "execute_result"
    }
   ],
   "source": [
    "pd.DataFrame(curveOBJ.nodes(), columns=['node','DF'])#[0:6]"
   ]
  },
  {
   "cell_type": "code",
   "execution_count": 4,
   "metadata": {},
   "outputs": [
    {
     "data": {
      "text/plain": [
       "[(Date(19,8,2022), 0.0013636000000000002)]"
      ]
     },
     "execution_count": 4,
     "metadata": {},
     "output_type": "execute_result"
    }
   ],
   "source": [
    "[(dt, vl) for dt, vl in zip(tbrIX.timeSeries().dates(), tbrIX.timeSeries().values())]"
   ]
  },
  {
   "cell_type": "markdown",
   "metadata": {},
   "source": [
    "**Fig 3**  \n",
    "<img src='swpm2Y1.2Aug19.png' width='600'>"
   ]
  },
  {
   "cell_type": "markdown",
   "metadata": {},
   "source": [
    "**スワップオブジェクトに関して**  \n",
    "- VanillaSwapコンストラクター\n",
    "- Swapコンストラクター では fairRate() やfloatingSchedule() が動かないので 当面はVanillaSwapコンストラクタを使用\n",
    "- スワップを評価する為 カーブオブジェクトをハンドルへ変更\n",
    "  - curveHDL = RelinkableYieldTermStructureHandle(curveOBJ)  \n",
    "  - またはcurveHDL = RelinkableYieldTermStructureHandle()と  \n",
    "    curveHDL.linkTo(curveOBJ)  \n",
    "  \n",
    "- PiecewiseLogLinearDiscount と PiecewiseFlatForward は同じDFを計算\n",
    "\n",
    "- NPV(), fairRate() メソッド >>   メソッド一覧は dir(swapOBJ)を参照\n",
    "- (Python 3.6からの)フォーマット済み文字列リテラル(f文字列)\n",
    "  - f\"xxxx {値 : 書式指定子} xxxx\"   \n",
    "  - \"xxxx {インデックス : 書式指定子} xxxx\".format(値) "
   ]
  },
  {
   "cell_type": "code",
   "execution_count": 5,
   "metadata": {},
   "outputs": [],
   "source": [
    "#(動かないSwapコンストラクター)\n",
    "\n",
    "# tbrIX = ql.Tibor(ql.Period('6m'), curveHDL)\n",
    "# cpn, sprd, ntnl = [0.012], [0.0], [10000000.0]\n",
    "\n",
    "# effDT, matDT = ql.Date('2022-08-15'), jDT(2024-08-15')\n",
    "# freq, calJP = ql.Period('6m'), calJP\n",
    "# mFLLW, tConv = ql.ModifiedFollowing, ql.ModifiedFollowing\n",
    "# dgRULEb, EoMf = ql.DateGeneration.Backward, False\n",
    "\n",
    "# fixSCD = ql.MakeSchedule(effDT, matDT, freq, calendar=calJP, convention=mFLLW, rule=dgRULEb)\n",
    "# #fixSCD =    ql.Schedule(effDT, matDT, freq, calJP, mFLLW, tConv, dgRULEb, EoMf)\n",
    "# fixedLEG = ql.FixedRateLeg(fixSCD, ql.Actual365Fixed(), ntnl, cpn)\n",
    "\n",
    "# #leg = ql.IborLeg([100], schedule, index, ql.Actual360(), ql.ModifiedFollowing, fixingDays=[2], \n",
    "# #                 gearings=[1], spreads=[0], caps=[0])\n",
    "# fltSCD = ql.MakeSchedule(effDT, matDT, freq,  calendar=calJP, convention=mFLLW, rule=dgRULEb)\n",
    "# floatLEG = ql.IborLeg(ntnl, fltSCD, tbrIX, ql.Actual365Fixed(),spreads=sprd)\n",
    "\n",
    "# swapOBJ = ql.Swap(fixedLEG, floatLEG)\n"
   ]
  },
  {
   "cell_type": "markdown",
   "metadata": {},
   "source": [
    "**2.1 RateHelperとイールドカーブオブジェクト**"
   ]
  },
  {
   "cell_type": "markdown",
   "metadata": {},
   "source": [
    "**Fig 4**  \n",
    "<img src='TiborCurve08192022.png' width='600'>"
   ]
  },
  {
   "cell_type": "code",
   "execution_count": 6,
   "metadata": {},
   "outputs": [
    {
     "data": {
      "text/html": [
       "<div>\n",
       "<style scoped>\n",
       "    .dataframe tbody tr th:only-of-type {\n",
       "        vertical-align: middle;\n",
       "    }\n",
       "\n",
       "    .dataframe tbody tr th {\n",
       "        vertical-align: top;\n",
       "    }\n",
       "\n",
       "    .dataframe thead th {\n",
       "        text-align: right;\n",
       "    }\n",
       "</style>\n",
       "<table border=\"1\" class=\"dataframe\">\n",
       "  <thead>\n",
       "    <tr style=\"text-align: right;\">\n",
       "      <th></th>\n",
       "      <th>A</th>\n",
       "      <th>B</th>\n",
       "      <th>C</th>\n",
       "    </tr>\n",
       "  </thead>\n",
       "  <tbody>\n",
       "    <tr>\n",
       "      <th>0</th>\n",
       "      <td>1</td>\n",
       "      <td>2</td>\n",
       "      <td>3</td>\n",
       "    </tr>\n",
       "    <tr>\n",
       "      <th>1</th>\n",
       "      <td>4</td>\n",
       "      <td>5</td>\n",
       "      <td>6</td>\n",
       "    </tr>\n",
       "  </tbody>\n",
       "</table>\n",
       "</div>"
      ],
      "text/plain": [
       "   A  B  C\n",
       "0  1  2  3\n",
       "1  4  5  6"
      ]
     },
     "metadata": {},
     "output_type": "display_data"
    },
    {
     "data": {
      "text/html": [
       "<div>\n",
       "<style scoped>\n",
       "    .dataframe tbody tr th:only-of-type {\n",
       "        vertical-align: middle;\n",
       "    }\n",
       "\n",
       "    .dataframe tbody tr th {\n",
       "        vertical-align: top;\n",
       "    }\n",
       "\n",
       "    .dataframe thead th {\n",
       "        text-align: right;\n",
       "    }\n",
       "</style>\n",
       "<table border=\"1\" class=\"dataframe\">\n",
       "  <thead>\n",
       "    <tr style=\"text-align: right;\">\n",
       "      <th></th>\n",
       "      <th>A</th>\n",
       "      <th>B</th>\n",
       "      <th>C</th>\n",
       "    </tr>\n",
       "  </thead>\n",
       "  <tbody>\n",
       "    <tr>\n",
       "      <th>0</th>\n",
       "      <td>1</td>\n",
       "      <td>2</td>\n",
       "      <td>3</td>\n",
       "    </tr>\n",
       "    <tr>\n",
       "      <th>1</th>\n",
       "      <td>4</td>\n",
       "      <td>5</td>\n",
       "      <td>6</td>\n",
       "    </tr>\n",
       "  </tbody>\n",
       "</table>\n",
       "</div>"
      ],
      "text/plain": [
       "   A  B  C\n",
       "0  1  2  3\n",
       "1  4  5  6"
      ]
     },
     "metadata": {},
     "output_type": "display_data"
    }
   ],
   "source": [
    "# タプル -> データフレーム\n",
    "display( pd.DataFrame( \n",
    "                    ([1, 2, 3],\n",
    "                     [4, 5, 6]) , columns=['A', 'B', 'C']) )\n",
    "# 辞書型 -> データフレーム\n",
    "display( pd.DataFrame(\n",
    "                ({'A':1, 'B':2,'C':3},\n",
    "                 {'A':4, 'B':5,'C':6}) ,    index=[0, 1] ) )"
   ]
  },
  {
   "cell_type": "code",
   "execution_count": 7,
   "metadata": {},
   "outputs": [
    {
     "name": "stdout",
     "output_type": "stream",
     "text": [
      "[Date(23,8,2022), Date(24,2,2023), Date(23,8,2023), Date(26,2,2024), Date(23,8,2024)]\n"
     ]
    }
   ],
   "source": [
    "print(list(fixSCD))"
   ]
  },
  {
   "cell_type": "code",
   "execution_count": 8,
   "metadata": {},
   "outputs": [
    {
     "name": "stdout",
     "output_type": "stream",
     "text": [
      "[Date(23,8,2022), Date(23,2,2023), Date(23,8,2023), Date(23,2,2024), Date(23,8,2024)]\n"
     ]
    }
   ],
   "source": [
    "fixSCDmk = ql.MakeSchedule(effDT, matDT, pdFreqSA)\n",
    "print(list(fixSCDmk))"
   ]
  },
  {
   "cell_type": "code",
   "execution_count": 9,
   "metadata": {},
   "outputs": [
    {
     "name": "stdout",
     "output_type": "stream",
     "text": [
      "[Date(23,8,2022), Date(24,2,2023), Date(23,8,2023), Date(26,2,2024), Date(23,8,2024)]\n"
     ]
    }
   ],
   "source": [
    "fixSCDmk = ql.MakeSchedule(effDT, matDT, pdFreqSA, calendar=calJP)\n",
    "print(list(fixSCDmk))"
   ]
  },
  {
   "cell_type": "markdown",
   "metadata": {},
   "source": [
    "**3. キャッシュフロー表 (as\\_couponへのキャスト)**"
   ]
  },
  {
   "cell_type": "markdown",
   "metadata": {},
   "source": [
    "<img src='as_couponキャストコード.png' width='600'>"
   ]
  },
  {
   "cell_type": "markdown",
   "metadata": {},
   "source": [
    "- floatingScheduleにeffDTとmatDTは含まれる"
   ]
  },
  {
   "cell_type": "code",
   "execution_count": 10,
   "metadata": {},
   "outputs": [
    {
     "name": "stdout",
     "output_type": "stream",
     "text": [
      "Help on Schedule in module QuantLib.QuantLib object:\n",
      "\n",
      "class Schedule(builtins.object)\n",
      " |  Schedule(*args)\n",
      " |  \n",
      " |  Proxy of C++ Schedule class.\n",
      " |  \n",
      " |  Methods defined here:\n",
      " |  \n",
      " |  __getitem__(self, i)\n",
      " |      __getitem__(Schedule self, Integer i) -> Date\n",
      " |  \n",
      " |  __init__(self, *args)\n",
      " |      __init__(Schedule self, DateVector arg2, Calendar calendar=NullCalendar(), BusinessDayConvention const convention=Unadjusted, ext::optional< BusinessDayConvention > terminationDateConvention=ext::nullopt, ext::optional< Period > tenor=ext::nullopt, ext::optional< DateGeneration::Rule > rule=ext::nullopt, ext::optional< bool > endOfMonth=ext::nullopt, BoolVector isRegular=std::vector< bool >(0)) -> Schedule\n",
      " |      __init__(Schedule self, Date effectiveDate, Date terminationDate, Period tenor, Calendar calendar, BusinessDayConvention convention, BusinessDayConvention terminationDateConvention, DateGeneration::Rule rule, bool endOfMonth, Date firstDate=Date(), Date nextToLastDate=Date()) -> Schedule\n",
      " |      __init__(Schedule self) -> Schedule\n",
      " |  \n",
      " |  __len__(self)\n",
      " |      __len__(Schedule self) -> Size\n",
      " |  \n",
      " |  __repr__ = _swig_repr(self)\n",
      " |  \n",
      " |  after(self, truncationDate)\n",
      " |      after(Schedule self, Date truncationDate) -> Schedule\n",
      " |  \n",
      " |  businessDayConvention(self)\n",
      " |      businessDayConvention(Schedule self) -> BusinessDayConvention\n",
      " |  \n",
      " |  calendar(self)\n",
      " |      calendar(Schedule self) -> Calendar\n",
      " |  \n",
      " |  dates(self)\n",
      " |      dates(Schedule self) -> DateVector\n",
      " |  \n",
      " |  endDate(self)\n",
      " |      endDate(Schedule self) -> Date\n",
      " |  \n",
      " |  endOfMonth(self)\n",
      " |      endOfMonth(Schedule self) -> bool\n",
      " |  \n",
      " |  hasEndOfMonth(self)\n",
      " |      hasEndOfMonth(Schedule self) -> bool\n",
      " |  \n",
      " |  hasIsRegular(self)\n",
      " |      hasIsRegular(Schedule self) -> bool\n",
      " |  \n",
      " |  hasRule(self)\n",
      " |      hasRule(Schedule self) -> bool\n",
      " |  \n",
      " |  hasTenor(self)\n",
      " |      hasTenor(Schedule self) -> bool\n",
      " |  \n",
      " |  hasTerminationDateBusinessDayConvention(self)\n",
      " |      hasTerminationDateBusinessDayConvention(Schedule self) -> bool\n",
      " |  \n",
      " |  isRegular(self, *args)\n",
      " |      isRegular(Schedule self, Size i) -> bool\n",
      " |      isRegular(Schedule self) -> BoolVector\n",
      " |  \n",
      " |  nextDate(self, refDate)\n",
      " |      nextDate(Schedule self, Date refDate) -> Date\n",
      " |  \n",
      " |  previousDate(self, refDate)\n",
      " |      previousDate(Schedule self, Date refDate) -> Date\n",
      " |  \n",
      " |  rule(self)\n",
      " |      rule(Schedule self) -> DateGeneration::Rule\n",
      " |  \n",
      " |  startDate(self)\n",
      " |      startDate(Schedule self) -> Date\n",
      " |  \n",
      " |  tenor(self)\n",
      " |      tenor(Schedule self) -> Period\n",
      " |  \n",
      " |  terminationDateBusinessDayConvention(self)\n",
      " |      terminationDateBusinessDayConvention(Schedule self) -> BusinessDayConvention\n",
      " |  \n",
      " |  until(self, truncationDate)\n",
      " |      until(Schedule self, Date truncationDate) -> Schedule\n",
      " |  \n",
      " |  ----------------------------------------------------------------------\n",
      " |  Static methods defined here:\n",
      " |  \n",
      " |  __swig_destroy__ = delete_Schedule(...)\n",
      " |      delete_Schedule(Schedule self)\n",
      " |  \n",
      " |  ----------------------------------------------------------------------\n",
      " |  Data descriptors defined here:\n",
      " |  \n",
      " |  __dict__\n",
      " |      dictionary for instance variables (if defined)\n",
      " |  \n",
      " |  __weakref__\n",
      " |      list of weak references to the object (if defined)\n",
      " |  \n",
      " |  thisown\n",
      " |      The membership flag\n",
      "\n"
     ]
    }
   ],
   "source": [
    "help(swapOBJ.floatingSchedule())"
   ]
  },
  {
   "cell_type": "markdown",
   "metadata": {},
   "source": [
    "- legオブジェクトの日付によるdiscountメソッド例"
   ]
  },
  {
   "cell_type": "code",
   "execution_count": 11,
   "metadata": {},
   "outputs": [],
   "source": [
    "# print(swapOBJ.floatingSchedule()[1])\n",
    "# print(curveOBJ.discount(swapOBJ.floatingSchedule()[1]))"
   ]
  },
  {
   "cell_type": "markdown",
   "metadata": {},
   "source": [
    "**as_couponへのキャスト**\n",
    "- as_coupon(), as_fixed_rate_coupon(), as_floating_rate_couponメソッド  \n",
    "( https://quant.stackexchange.com/questions/66056/in-python-quantlib-how-to-identify-principal-and-interest-cashflows )"
   ]
  },
  {
   "cell_type": "code",
   "execution_count": 12,
   "metadata": {},
   "outputs": [
    {
     "data": {
      "text/plain": [
       "[<QuantLib.QuantLib.CashFlow; proxy of <Swig Object of type 'ext::shared_ptr< CashFlow > *' at 0x000001D39E659B70> >,\n",
       " <QuantLib.QuantLib.CashFlow; proxy of <Swig Object of type 'ext::shared_ptr< CashFlow > *' at 0x000001D39E659AE0> >,\n",
       " <QuantLib.QuantLib.CashFlow; proxy of <Swig Object of type 'ext::shared_ptr< CashFlow > *' at 0x000001D39E659C90> >,\n",
       " <QuantLib.QuantLib.CashFlow; proxy of <Swig Object of type 'ext::shared_ptr< CashFlow > *' at 0x000001D39E6737E0> >]"
      ]
     },
     "execution_count": 12,
     "metadata": {},
     "output_type": "execute_result"
    }
   ],
   "source": [
    "list(swapOBJ.leg(1))"
   ]
  },
  {
   "cell_type": "code",
   "execution_count": 13,
   "metadata": {},
   "outputs": [],
   "source": [
    "#list(swapOBJ.leg(1))[0].amount()"
   ]
  },
  {
   "cell_type": "code",
   "execution_count": 14,
   "metadata": {},
   "outputs": [
    {
     "data": {
      "text/plain": [
       "0.001690818788083828"
      ]
     },
     "execution_count": 14,
     "metadata": {},
     "output_type": "execute_result"
    }
   ],
   "source": [
    "ql.as_floating_rate_coupon(swapOBJ.leg(1)[1]).rate()"
   ]
  },
  {
   "cell_type": "code",
   "execution_count": 15,
   "metadata": {},
   "outputs": [
    {
     "name": "stdout",
     "output_type": "stream",
     "text": [
      "Help on CashFlow in module QuantLib.QuantLib object:\n",
      "\n",
      "class CashFlow(Observable)\n",
      " |  CashFlow(*args, **kwargs)\n",
      " |  \n",
      " |  Proxy of C++ CashFlow class.\n",
      " |  \n",
      " |  Method resolution order:\n",
      " |      CashFlow\n",
      " |      Observable\n",
      " |      builtins.object\n",
      " |  \n",
      " |  Methods defined here:\n",
      " |  \n",
      " |  __init__(self, *args, **kwargs)\n",
      " |      __init__(Observable self) -> Observable\n",
      " |  \n",
      " |  __repr__ = _swig_repr(self)\n",
      " |  \n",
      " |  amount(self)\n",
      " |      amount(CashFlow self) -> Real\n",
      " |  \n",
      " |  date(self)\n",
      " |      date(CashFlow self) -> Date\n",
      " |  \n",
      " |  hasOccurred(self, *args)\n",
      " |      hasOccurred(CashFlow self, Date refDate=Date()) -> bool\n",
      " |  \n",
      " |  ----------------------------------------------------------------------\n",
      " |  Static methods defined here:\n",
      " |  \n",
      " |  __swig_destroy__ = delete_CashFlow(...)\n",
      " |      delete_CashFlow(CashFlow self)\n",
      " |  \n",
      " |  ----------------------------------------------------------------------\n",
      " |  Data descriptors defined here:\n",
      " |  \n",
      " |  thisown\n",
      " |      The membership flag\n",
      " |  \n",
      " |  ----------------------------------------------------------------------\n",
      " |  Data descriptors inherited from Observable:\n",
      " |  \n",
      " |  __dict__\n",
      " |      dictionary for instance variables (if defined)\n",
      " |  \n",
      " |  __weakref__\n",
      " |      list of weak references to the object (if defined)\n",
      "\n"
     ]
    }
   ],
   "source": [
    "help(swapOBJ.leg(1)[1])"
   ]
  },
  {
   "cell_type": "code",
   "execution_count": 16,
   "metadata": {},
   "outputs": [
    {
     "name": "stdout",
     "output_type": "stream",
     "text": [
      "Help on FloatingRateCoupon in module QuantLib.QuantLib object:\n",
      "\n",
      "class FloatingRateCoupon(Coupon)\n",
      " |  FloatingRateCoupon(*args, **kwargs)\n",
      " |  \n",
      " |  Proxy of C++ FloatingRateCoupon class.\n",
      " |  \n",
      " |  Method resolution order:\n",
      " |      FloatingRateCoupon\n",
      " |      Coupon\n",
      " |      CashFlow\n",
      " |      Observable\n",
      " |      builtins.object\n",
      " |  \n",
      " |  Methods defined here:\n",
      " |  \n",
      " |  __init__(self, *args, **kwargs)\n",
      " |      __init__(Observable self) -> Observable\n",
      " |  \n",
      " |  __repr__ = _swig_repr(self)\n",
      " |  \n",
      " |  adjustedFixing(self)\n",
      " |      adjustedFixing(FloatingRateCoupon self) -> Rate\n",
      " |  \n",
      " |  convexityAdjustment(self)\n",
      " |      convexityAdjustment(FloatingRateCoupon self) -> Rate\n",
      " |  \n",
      " |  fixingDate(self)\n",
      " |      fixingDate(FloatingRateCoupon self) -> Date\n",
      " |  \n",
      " |  fixingDays(self)\n",
      " |      fixingDays(FloatingRateCoupon self) -> Integer\n",
      " |  \n",
      " |  gearing(self)\n",
      " |      gearing(FloatingRateCoupon self) -> Real\n",
      " |  \n",
      " |  index(self)\n",
      " |      index(FloatingRateCoupon self) -> ext::shared_ptr< InterestRateIndex >\n",
      " |  \n",
      " |  indexFixing(self)\n",
      " |      indexFixing(FloatingRateCoupon self) -> Rate\n",
      " |  \n",
      " |  isInArrears(self)\n",
      " |      isInArrears(FloatingRateCoupon self) -> bool\n",
      " |  \n",
      " |  price(self, discountCurve)\n",
      " |      price(FloatingRateCoupon self, YieldTermStructureHandle discountCurve) -> Real\n",
      " |  \n",
      " |  setPricer(self, p)\n",
      " |      setPricer(FloatingRateCoupon self, ext::shared_ptr< FloatingRateCouponPricer > const & p)\n",
      " |  \n",
      " |  spread(self)\n",
      " |      spread(FloatingRateCoupon self) -> Rate\n",
      " |  \n",
      " |  ----------------------------------------------------------------------\n",
      " |  Static methods defined here:\n",
      " |  \n",
      " |  __swig_destroy__ = delete_FloatingRateCoupon(...)\n",
      " |      delete_FloatingRateCoupon(FloatingRateCoupon self)\n",
      " |  \n",
      " |  ----------------------------------------------------------------------\n",
      " |  Data descriptors defined here:\n",
      " |  \n",
      " |  thisown\n",
      " |      The membership flag\n",
      " |  \n",
      " |  ----------------------------------------------------------------------\n",
      " |  Methods inherited from Coupon:\n",
      " |  \n",
      " |  accrualDays(self)\n",
      " |      accrualDays(Coupon self) -> BigInteger\n",
      " |  \n",
      " |  accrualEndDate(self)\n",
      " |      accrualEndDate(Coupon self) -> Date\n",
      " |  \n",
      " |  accrualPeriod(self)\n",
      " |      accrualPeriod(Coupon self) -> Time\n",
      " |  \n",
      " |  accrualStartDate(self)\n",
      " |      accrualStartDate(Coupon self) -> Date\n",
      " |  \n",
      " |  accruedAmount(self, date)\n",
      " |      accruedAmount(Coupon self, Date date) -> Real\n",
      " |  \n",
      " |  dayCounter(self)\n",
      " |      dayCounter(Coupon self) -> DayCounter\n",
      " |  \n",
      " |  exCouponDate(self)\n",
      " |      exCouponDate(Coupon self) -> Date\n",
      " |  \n",
      " |  nominal(self)\n",
      " |      nominal(Coupon self) -> Real\n",
      " |  \n",
      " |  rate(self)\n",
      " |      rate(Coupon self) -> Real\n",
      " |  \n",
      " |  referencePeriodEnd(self)\n",
      " |      referencePeriodEnd(Coupon self) -> Date\n",
      " |  \n",
      " |  referencePeriodStart(self)\n",
      " |      referencePeriodStart(Coupon self) -> Date\n",
      " |  \n",
      " |  ----------------------------------------------------------------------\n",
      " |  Methods inherited from CashFlow:\n",
      " |  \n",
      " |  amount(self)\n",
      " |      amount(CashFlow self) -> Real\n",
      " |  \n",
      " |  date(self)\n",
      " |      date(CashFlow self) -> Date\n",
      " |  \n",
      " |  hasOccurred(self, *args)\n",
      " |      hasOccurred(CashFlow self, Date refDate=Date()) -> bool\n",
      " |  \n",
      " |  ----------------------------------------------------------------------\n",
      " |  Data descriptors inherited from Observable:\n",
      " |  \n",
      " |  __dict__\n",
      " |      dictionary for instance variables (if defined)\n",
      " |  \n",
      " |  __weakref__\n",
      " |      list of weak references to the object (if defined)\n",
      "\n"
     ]
    }
   ],
   "source": [
    "help(ql.as_floating_rate_coupon(swapOBJ.leg(1)[1]))"
   ]
  },
  {
   "cell_type": "markdown",
   "metadata": {},
   "source": [
    "- map関数によるas_couponへのキャスト  \n",
    "**Fig 6**"
   ]
  },
  {
   "cell_type": "markdown",
   "metadata": {},
   "source": [
    "- データフレーム内包表記？？？"
   ]
  },
  {
   "cell_type": "code",
   "execution_count": 17,
   "metadata": {},
   "outputs": [
    {
     "name": "stdout",
     "output_type": "stream",
     "text": [
      "df1 \n",
      "    A  B\n",
      "0  1  2\n",
      "1  2  4\n",
      "2  3  6\n",
      "df2 \n",
      "    A  B\n",
      "0  1  2\n",
      "1  2  4\n",
      "2  3  6\n"
     ]
    }
   ],
   "source": [
    "df1 = pd.DataFrame([{'A':1, 'B':1*2}, {'A':2, 'B':2*2}, {'A':3, 'B':3*2}])\n",
    "df2 = pd.DataFrame({'A':x,  'B':x*2} for x in range(1,4))\n",
    "print('df1 \\n', df1) ; print('df2 \\n', df2)"
   ]
  },
  {
   "cell_type": "markdown",
   "metadata": {},
   "source": [
    "- 変動レグ"
   ]
  },
  {
   "cell_type": "code",
   "execution_count": 18,
   "metadata": {},
   "outputs": [
    {
     "data": {
      "text/html": [
       "<style type=\"text/css\">\n",
       "</style>\n",
       "<table id=\"T_4fe18_\">\n",
       "  <thead>\n",
       "    <tr>\n",
       "      <th class=\"blank level0\" >&nbsp;</th>\n",
       "      <th class=\"col_heading level0 col0\" >fixingDate</th>\n",
       "      <th class=\"col_heading level0 col1\" >accruStart</th>\n",
       "      <th class=\"col_heading level0 col2\" >accruEnd</th>\n",
       "      <th class=\"col_heading level0 col3\" >payDate</th>\n",
       "      <th class=\"col_heading level0 col4\" >days</th>\n",
       "      <th class=\"col_heading level0 col5\" >rate</th>\n",
       "      <th class=\"col_heading level0 col6\" >spread</th>\n",
       "      <th class=\"col_heading level0 col7\" >amount</th>\n",
       "      <th class=\"col_heading level0 col8\" >DF</th>\n",
       "    </tr>\n",
       "  </thead>\n",
       "  <tbody>\n",
       "    <tr>\n",
       "      <th id=\"T_4fe18_level0_row0\" class=\"row_heading level0 row0\" >0</th>\n",
       "      <td id=\"T_4fe18_row0_col0\" class=\"data row0 col0\" >2022-08-19</td>\n",
       "      <td id=\"T_4fe18_row0_col1\" class=\"data row0 col1\" >2022-08-23</td>\n",
       "      <td id=\"T_4fe18_row0_col2\" class=\"data row0 col2\" >2023-02-24</td>\n",
       "      <td id=\"T_4fe18_row0_col3\" class=\"data row0 col3\" >2023-02-24</td>\n",
       "      <td id=\"T_4fe18_row0_col4\" class=\"data row0 col4\" >185</td>\n",
       "      <td id=\"T_4fe18_row0_col5\" class=\"data row0 col5\" >0.136360%</td>\n",
       "      <td id=\"T_4fe18_row0_col6\" class=\"data row0 col6\" >0.000%</td>\n",
       "      <td id=\"T_4fe18_row0_col7\" class=\"data row0 col7\" >6,911.40</td>\n",
       "      <td id=\"T_4fe18_row0_col8\" class=\"data row0 col8\" >0.99930934</td>\n",
       "    </tr>\n",
       "    <tr>\n",
       "      <th id=\"T_4fe18_level0_row1\" class=\"row_heading level0 row1\" >1</th>\n",
       "      <td id=\"T_4fe18_row1_col0\" class=\"data row1 col0\" >2023-02-21</td>\n",
       "      <td id=\"T_4fe18_row1_col1\" class=\"data row1 col1\" >2023-02-24</td>\n",
       "      <td id=\"T_4fe18_row1_col2\" class=\"data row1 col2\" >2023-08-23</td>\n",
       "      <td id=\"T_4fe18_row1_col3\" class=\"data row1 col3\" >2023-08-23</td>\n",
       "      <td id=\"T_4fe18_row1_col4\" class=\"data row1 col4\" >180</td>\n",
       "      <td id=\"T_4fe18_row1_col5\" class=\"data row1 col5\" >0.169082%</td>\n",
       "      <td id=\"T_4fe18_row1_col6\" class=\"data row1 col6\" >0.000%</td>\n",
       "      <td id=\"T_4fe18_row1_col7\" class=\"data row1 col7\" >8,338.28</td>\n",
       "      <td id=\"T_4fe18_row1_col8\" class=\"data row1 col8\" >0.99847678</td>\n",
       "    </tr>\n",
       "    <tr>\n",
       "      <th id=\"T_4fe18_level0_row2\" class=\"row_heading level0 row2\" >2</th>\n",
       "      <td id=\"T_4fe18_row2_col0\" class=\"data row2 col0\" >2023-08-21</td>\n",
       "      <td id=\"T_4fe18_row2_col1\" class=\"data row2 col1\" >2023-08-23</td>\n",
       "      <td id=\"T_4fe18_row2_col2\" class=\"data row2 col2\" >2024-02-26</td>\n",
       "      <td id=\"T_4fe18_row2_col3\" class=\"data row2 col3\" >2024-02-26</td>\n",
       "      <td id=\"T_4fe18_row2_col4\" class=\"data row2 col4\" >187</td>\n",
       "      <td id=\"T_4fe18_row2_col5\" class=\"data row2 col5\" >0.255717%</td>\n",
       "      <td id=\"T_4fe18_row2_col6\" class=\"data row2 col6\" >0.000%</td>\n",
       "      <td id=\"T_4fe18_row2_col7\" class=\"data row2 col7\" >13,101.12</td>\n",
       "      <td id=\"T_4fe18_row2_col8\" class=\"data row2 col8\" >0.99717037</td>\n",
       "    </tr>\n",
       "    <tr>\n",
       "      <th id=\"T_4fe18_level0_row3\" class=\"row_heading level0 row3\" >3</th>\n",
       "      <td id=\"T_4fe18_row3_col0\" class=\"data row3 col0\" >2024-02-21</td>\n",
       "      <td id=\"T_4fe18_row3_col1\" class=\"data row3 col1\" >2024-02-26</td>\n",
       "      <td id=\"T_4fe18_row3_col2\" class=\"data row3 col2\" >2024-08-23</td>\n",
       "      <td id=\"T_4fe18_row3_col3\" class=\"data row3 col3\" >2024-08-23</td>\n",
       "      <td id=\"T_4fe18_row3_col4\" class=\"data row3 col4\" >179</td>\n",
       "      <td id=\"T_4fe18_row3_col5\" class=\"data row3 col5\" >0.261022%</td>\n",
       "      <td id=\"T_4fe18_row3_col6\" class=\"data row3 col6\" >0.000%</td>\n",
       "      <td id=\"T_4fe18_row3_col7\" class=\"data row3 col7\" >12,800.82</td>\n",
       "      <td id=\"T_4fe18_row3_col8\" class=\"data row3 col8\" >0.99589555</td>\n",
       "    </tr>\n",
       "  </tbody>\n",
       "</table>\n"
      ],
      "text/plain": [
       "<pandas.io.formats.style.Styler at 0x1d39e550cd0>"
      ]
     },
     "execution_count": 18,
     "metadata": {},
     "output_type": "execute_result"
    }
   ],
   "source": [
    "dfSWP = pd.DataFrame({\n",
    "    'fixingDate': cpn.fixingDate().ISO(),\n",
    "    'accruStart': cpn.accrualStartDate().ISO(),\n",
    "    'accruEnd':   cpn.accrualEndDate().ISO(),\n",
    "    'payDate':    cpn.date(),                             # Date class(No ISO form)\n",
    "    'days':       dcA365.dayCount(cpn.accrualStartDate(),cpn.accrualEndDate()),\n",
    "    'rate':       cpn.rate(),\n",
    "    'spread':     cpn.spread(),\n",
    "    'amount':     cpn.amount(),\n",
    "    } for cpn in map(ql.as_floating_rate_coupon, swapOBJ.leg(1)))       #変動レグ=1\n",
    "# ディスカウントファクター(DF)\n",
    "psDF = [1.0                   for dt in dfSWP.payDate if dt <= settleDT] #past   DF\n",
    "fuDF = [curveOBJ.discount(dt) for dt in dfSWP.payDate if settleDT < dt ] #future DF\n",
    "dfSWP = pd.concat([dfSWP, pd.DataFrame(psDF+fuDF, columns=['DF']) ], axis=1)\n",
    "dfSWP.payDate = dfSWP.payDate.map(lambda x: x.ISO())                         # ISOへ\n",
    "\n",
    "dfSWP.style.format({'nominal':'{:,.2f}', 'rate':'{:.6%}', 'spread':'{:.3%}',\n",
    "                  'amount':'{:,.2f}','DF':'{:.8f}'})"
   ]
  },
  {
   "cell_type": "code",
   "execution_count": 19,
   "metadata": {},
   "outputs": [
    {
     "name": "stdout",
     "output_type": "stream",
     "text": [
      "変動レグ時価(手計算): 41,044.532\n"
     ]
    }
   ],
   "source": [
    "print('変動レグ時価(手計算): {:,.3f}'.format((dfSWP.amount*dfSWP.DF).sum()) )"
   ]
  },
  {
   "cell_type": "code",
   "execution_count": 20,
   "metadata": {},
   "outputs": [
    {
     "data": {
      "text/plain": [
       "41151.61766661032"
      ]
     },
     "execution_count": 20,
     "metadata": {},
     "output_type": "execute_result"
    }
   ],
   "source": [
    "dfSWP.amount.sum()"
   ]
  },
  {
   "cell_type": "markdown",
   "metadata": {},
   "source": [
    "- 固定レグ"
   ]
  },
  {
   "cell_type": "code",
   "execution_count": 21,
   "metadata": {},
   "outputs": [
    {
     "data": {
      "text/html": [
       "<style type=\"text/css\">\n",
       "</style>\n",
       "<table id=\"T_ae1cd_\">\n",
       "  <thead>\n",
       "    <tr>\n",
       "      <th class=\"blank level0\" >&nbsp;</th>\n",
       "      <th class=\"col_heading level0 col0\" >nominal</th>\n",
       "      <th class=\"col_heading level0 col1\" >accruStart</th>\n",
       "      <th class=\"col_heading level0 col2\" >accruEnd</th>\n",
       "      <th class=\"col_heading level0 col3\" >payDate</th>\n",
       "      <th class=\"col_heading level0 col4\" >days</th>\n",
       "      <th class=\"col_heading level0 col5\" >rate</th>\n",
       "      <th class=\"col_heading level0 col6\" >amount</th>\n",
       "      <th class=\"col_heading level0 col7\" >DF</th>\n",
       "    </tr>\n",
       "  </thead>\n",
       "  <tbody>\n",
       "    <tr>\n",
       "      <th id=\"T_ae1cd_level0_row0\" class=\"row_heading level0 row0\" >0</th>\n",
       "      <td id=\"T_ae1cd_row0_col0\" class=\"data row0 col0\" >10,000,000.00</td>\n",
       "      <td id=\"T_ae1cd_row0_col1\" class=\"data row0 col1\" >2022-08-23</td>\n",
       "      <td id=\"T_ae1cd_row0_col2\" class=\"data row0 col2\" >2023-02-24</td>\n",
       "      <td id=\"T_ae1cd_row0_col3\" class=\"data row0 col3\" >2023-02-24</td>\n",
       "      <td id=\"T_ae1cd_row0_col4\" class=\"data row0 col4\" >185</td>\n",
       "      <td id=\"T_ae1cd_row0_col5\" class=\"data row0 col5\" >1.200000%</td>\n",
       "      <td id=\"T_ae1cd_row0_col6\" class=\"data row0 col6\" >60,821.92</td>\n",
       "      <td id=\"T_ae1cd_row0_col7\" class=\"data row0 col7\" >0.99930934</td>\n",
       "    </tr>\n",
       "    <tr>\n",
       "      <th id=\"T_ae1cd_level0_row1\" class=\"row_heading level0 row1\" >1</th>\n",
       "      <td id=\"T_ae1cd_row1_col0\" class=\"data row1 col0\" >10,000,000.00</td>\n",
       "      <td id=\"T_ae1cd_row1_col1\" class=\"data row1 col1\" >2023-02-24</td>\n",
       "      <td id=\"T_ae1cd_row1_col2\" class=\"data row1 col2\" >2023-08-23</td>\n",
       "      <td id=\"T_ae1cd_row1_col3\" class=\"data row1 col3\" >2023-08-23</td>\n",
       "      <td id=\"T_ae1cd_row1_col4\" class=\"data row1 col4\" >180</td>\n",
       "      <td id=\"T_ae1cd_row1_col5\" class=\"data row1 col5\" >1.200000%</td>\n",
       "      <td id=\"T_ae1cd_row1_col6\" class=\"data row1 col6\" >59,178.08</td>\n",
       "      <td id=\"T_ae1cd_row1_col7\" class=\"data row1 col7\" >0.99847678</td>\n",
       "    </tr>\n",
       "    <tr>\n",
       "      <th id=\"T_ae1cd_level0_row2\" class=\"row_heading level0 row2\" >2</th>\n",
       "      <td id=\"T_ae1cd_row2_col0\" class=\"data row2 col0\" >10,000,000.00</td>\n",
       "      <td id=\"T_ae1cd_row2_col1\" class=\"data row2 col1\" >2023-08-23</td>\n",
       "      <td id=\"T_ae1cd_row2_col2\" class=\"data row2 col2\" >2024-02-26</td>\n",
       "      <td id=\"T_ae1cd_row2_col3\" class=\"data row2 col3\" >2024-02-26</td>\n",
       "      <td id=\"T_ae1cd_row2_col4\" class=\"data row2 col4\" >187</td>\n",
       "      <td id=\"T_ae1cd_row2_col5\" class=\"data row2 col5\" >1.200000%</td>\n",
       "      <td id=\"T_ae1cd_row2_col6\" class=\"data row2 col6\" >61,479.45</td>\n",
       "      <td id=\"T_ae1cd_row2_col7\" class=\"data row2 col7\" >0.99717037</td>\n",
       "    </tr>\n",
       "    <tr>\n",
       "      <th id=\"T_ae1cd_level0_row3\" class=\"row_heading level0 row3\" >3</th>\n",
       "      <td id=\"T_ae1cd_row3_col0\" class=\"data row3 col0\" >10,000,000.00</td>\n",
       "      <td id=\"T_ae1cd_row3_col1\" class=\"data row3 col1\" >2024-02-26</td>\n",
       "      <td id=\"T_ae1cd_row3_col2\" class=\"data row3 col2\" >2024-08-23</td>\n",
       "      <td id=\"T_ae1cd_row3_col3\" class=\"data row3 col3\" >2024-08-23</td>\n",
       "      <td id=\"T_ae1cd_row3_col4\" class=\"data row3 col4\" >179</td>\n",
       "      <td id=\"T_ae1cd_row3_col5\" class=\"data row3 col5\" >1.200000%</td>\n",
       "      <td id=\"T_ae1cd_row3_col6\" class=\"data row3 col6\" >58,849.32</td>\n",
       "      <td id=\"T_ae1cd_row3_col7\" class=\"data row3 col7\" >0.99589555</td>\n",
       "    </tr>\n",
       "  </tbody>\n",
       "</table>\n"
      ],
      "text/plain": [
       "<pandas.io.formats.style.Styler at 0x1d39e550e50>"
      ]
     },
     "metadata": {},
     "output_type": "display_data"
    },
    {
     "name": "stdout",
     "output_type": "stream",
     "text": [
      "アニュイティ: 1.9981759195233613\n"
     ]
    }
   ],
   "source": [
    "import myUtil as mu \n",
    "dfFixCF = mu.swapCashFlow(swapOBJ, curveOBJ, leg=0)\n",
    "display( dfFixCF.style.format(\n",
    "    {'nominal':'{:,.2f}', 'rate':'{:.6%}', 'amount':'{:,.2f}','DF':'{:.8f}'}) )\n",
    "print('アニュイティ:', (dfFixCF.days/365 * dfFixCF.DF).sum() )"
   ]
  },
  {
   "cell_type": "markdown",
   "metadata": {},
   "source": [
    "<img src='swpm2Y1.2FloatLegAug19.png' width='800'>"
   ]
  },
  {
   "cell_type": "markdown",
   "metadata": {},
   "source": [
    "**7. フォワードスワップレート**"
   ]
  },
  {
   "cell_type": "markdown",
   "metadata": {},
   "source": [
    "**Fig 7**  \n",
    "<img src='QL-1yx2y-main.png' width='500'>"
   ]
  },
  {
   "cell_type": "markdown",
   "metadata": {},
   "source": [
    "- ScheduleとNumpyによるAnnuity計算"
   ]
  },
  {
   "cell_type": "code",
   "execution_count": 22,
   "metadata": {},
   "outputs": [
    {
     "name": "stdout",
     "output_type": "stream",
     "text": [
      "discount factors:  [0.99717037 0.99589555 0.99445706 0.99305925]\n",
      "tenor list      :  [0.51232877 0.49041096 0.50958904 0.49589041]\n",
      "アニュイティ     :  1.998490138388887\n"
     ]
    }
   ],
   "source": [
    "import numpy as np ; import myUtil as mu ; from myABBR import * \n",
    "# フォワードスワップのスケジュールオブジェクト\n",
    "effDTf, matDTf = mu.jDT(2023,8,23), mu.jDT(2025,8,23) \n",
    "fixSCDf = ql.Schedule(effDTf, matDTf, pdFreqSA, calJP, mFLLW, mFLLW, dgRULEb, EoMf)\n",
    "\n",
    "# アニュイティ計算\n",
    "discFCT = np.array([curveOBJ.discount(d) for d in fixSCDf][1:]) \n",
    "tnrLST = np.diff([dcA365.yearFraction(fixSCDf.startDate(), d) for d in fixSCDf]) \n",
    "annuity = np.sum(tnrLST * discFCT)\n",
    "\n",
    "print('discount factors: ', discFCT)\n",
    "print('tenor list      : ', tnrLST)\n",
    "print('アニュイティ     : ', annuity)"
   ]
  },
  {
   "cell_type": "code",
   "execution_count": 23,
   "metadata": {},
   "outputs": [
    {
     "data": {
      "text/plain": [
       "1.998490138388887"
      ]
     },
     "execution_count": 23,
     "metadata": {},
     "output_type": "execute_result"
    }
   ],
   "source": [
    "import myUtil as mu ; from myABBR import * \n",
    "mu.calcAnnuity(fixSCDf, curveOBJ)"
   ]
  },
  {
   "cell_type": "markdown",
   "metadata": {},
   "source": [
    "- effDT、matDTの修正とswapOBJの再計算"
   ]
  },
  {
   "cell_type": "code",
   "execution_count": 24,
   "metadata": {},
   "outputs": [
    {
     "name": "stdout",
     "output_type": "stream",
     "text": [
      "Fixed(leg0) NPV : -239,818.82\n",
      "Float(leg1) NPV : 54,175.33\n",
      "Swap NPV        : -185,643.49\n",
      "fairRate        :  0.271081%\n",
      "fairSpread      :  0.928919%\n"
     ]
    }
   ],
   "source": [
    "# 3.スケジュールオブジェクト(フォワードスワップ) \n",
    "effDTf, matDTf = jDT(2023,8,23), jDT(2025,8,23) \n",
    "fixSCDf = ql.Schedule(effDTf, matDTf, pdFreqSA, calJP, mFLLW, mFLLW, dgRULEb, EoMf)\n",
    "fltSCDf = ql.Schedule(effDTf, matDTf, pdFreqSA, calJP, mFLLW, mFLLW, dgRULEb, EoMf)\n",
    "\n",
    "# 4.スワップオブジェクトの作成とエンジンの設定\n",
    "swapOBJf = ql.VanillaSwap(ql.VanillaSwap.Payer, ntlAMT, fixSCDf,        cpn, dcA365,\n",
    "                                                       fltSCDf, tbrIX, sprd, dcA365)\n",
    "swapENGf = ql.DiscountingSwapEngine(curveHDL)\n",
    "swapOBJf.setPricingEngine(swapENGf)\n",
    "\n",
    "# 5. 計算結果\n",
    "print('Fixed(leg0) NPV : {:,.2f}'.format(swapOBJf.legNPV(0)))\n",
    "print('Float(leg1) NPV : {:,.2f}'.format(swapOBJf.legNPV(1)))\n",
    "print('Swap NPV        : {:,.2f}'.format(swapOBJf.NPV()))\n",
    "print('fairRate        : {: .6%}'.format(swapOBJf.fairRate()))\n",
    "print('fairSpread      : {: .6%}'.format(swapOBJf.fairSpread()))"
   ]
  },
  {
   "cell_type": "code",
   "execution_count": 25,
   "metadata": {},
   "outputs": [
    {
     "data": {
      "text/html": [
       "<style type=\"text/css\">\n",
       "</style>\n",
       "<table id=\"T_3f49a_\">\n",
       "  <thead>\n",
       "    <tr>\n",
       "      <th class=\"blank level0\" >&nbsp;</th>\n",
       "      <th class=\"col_heading level0 col0\" >nominal</th>\n",
       "      <th class=\"col_heading level0 col1\" >accruStart</th>\n",
       "      <th class=\"col_heading level0 col2\" >accruEnd</th>\n",
       "      <th class=\"col_heading level0 col3\" >payDate</th>\n",
       "      <th class=\"col_heading level0 col4\" >days</th>\n",
       "      <th class=\"col_heading level0 col5\" >rate</th>\n",
       "      <th class=\"col_heading level0 col6\" >amount</th>\n",
       "      <th class=\"col_heading level0 col7\" >DF</th>\n",
       "    </tr>\n",
       "  </thead>\n",
       "  <tbody>\n",
       "    <tr>\n",
       "      <th id=\"T_3f49a_level0_row0\" class=\"row_heading level0 row0\" >0</th>\n",
       "      <td id=\"T_3f49a_row0_col0\" class=\"data row0 col0\" >10,000,000.00</td>\n",
       "      <td id=\"T_3f49a_row0_col1\" class=\"data row0 col1\" >2023-08-23</td>\n",
       "      <td id=\"T_3f49a_row0_col2\" class=\"data row0 col2\" >2024-02-26</td>\n",
       "      <td id=\"T_3f49a_row0_col3\" class=\"data row0 col3\" >2024-02-26</td>\n",
       "      <td id=\"T_3f49a_row0_col4\" class=\"data row0 col4\" >187</td>\n",
       "      <td id=\"T_3f49a_row0_col5\" class=\"data row0 col5\" >1.20000%</td>\n",
       "      <td id=\"T_3f49a_row0_col6\" class=\"data row0 col6\" >61,479.45</td>\n",
       "      <td id=\"T_3f49a_row0_col7\" class=\"data row0 col7\" >0.99717037</td>\n",
       "    </tr>\n",
       "    <tr>\n",
       "      <th id=\"T_3f49a_level0_row1\" class=\"row_heading level0 row1\" >1</th>\n",
       "      <td id=\"T_3f49a_row1_col0\" class=\"data row1 col0\" >10,000,000.00</td>\n",
       "      <td id=\"T_3f49a_row1_col1\" class=\"data row1 col1\" >2024-02-26</td>\n",
       "      <td id=\"T_3f49a_row1_col2\" class=\"data row1 col2\" >2024-08-23</td>\n",
       "      <td id=\"T_3f49a_row1_col3\" class=\"data row1 col3\" >2024-08-23</td>\n",
       "      <td id=\"T_3f49a_row1_col4\" class=\"data row1 col4\" >179</td>\n",
       "      <td id=\"T_3f49a_row1_col5\" class=\"data row1 col5\" >1.20000%</td>\n",
       "      <td id=\"T_3f49a_row1_col6\" class=\"data row1 col6\" >58,849.32</td>\n",
       "      <td id=\"T_3f49a_row1_col7\" class=\"data row1 col7\" >0.99589555</td>\n",
       "    </tr>\n",
       "    <tr>\n",
       "      <th id=\"T_3f49a_level0_row2\" class=\"row_heading level0 row2\" >2</th>\n",
       "      <td id=\"T_3f49a_row2_col0\" class=\"data row2 col0\" >10,000,000.00</td>\n",
       "      <td id=\"T_3f49a_row2_col1\" class=\"data row2 col1\" >2024-08-23</td>\n",
       "      <td id=\"T_3f49a_row2_col2\" class=\"data row2 col2\" >2025-02-25</td>\n",
       "      <td id=\"T_3f49a_row2_col3\" class=\"data row2 col3\" >2025-02-25</td>\n",
       "      <td id=\"T_3f49a_row2_col4\" class=\"data row2 col4\" >186</td>\n",
       "      <td id=\"T_3f49a_row2_col5\" class=\"data row2 col5\" >1.20000%</td>\n",
       "      <td id=\"T_3f49a_row2_col6\" class=\"data row2 col6\" >61,150.68</td>\n",
       "      <td id=\"T_3f49a_row2_col7\" class=\"data row2 col7\" >0.99445706</td>\n",
       "    </tr>\n",
       "    <tr>\n",
       "      <th id=\"T_3f49a_level0_row3\" class=\"row_heading level0 row3\" >3</th>\n",
       "      <td id=\"T_3f49a_row3_col0\" class=\"data row3 col0\" >10,000,000.00</td>\n",
       "      <td id=\"T_3f49a_row3_col1\" class=\"data row3 col1\" >2025-02-25</td>\n",
       "      <td id=\"T_3f49a_row3_col2\" class=\"data row3 col2\" >2025-08-25</td>\n",
       "      <td id=\"T_3f49a_row3_col3\" class=\"data row3 col3\" >2025-08-25</td>\n",
       "      <td id=\"T_3f49a_row3_col4\" class=\"data row3 col4\" >181</td>\n",
       "      <td id=\"T_3f49a_row3_col5\" class=\"data row3 col5\" >1.20000%</td>\n",
       "      <td id=\"T_3f49a_row3_col6\" class=\"data row3 col6\" >59,506.85</td>\n",
       "      <td id=\"T_3f49a_row3_col7\" class=\"data row3 col7\" >0.99305925</td>\n",
       "    </tr>\n",
       "  </tbody>\n",
       "</table>\n"
      ],
      "text/plain": [
       "<pandas.io.formats.style.Styler at 0x1d3a34e5df0>"
      ]
     },
     "metadata": {},
     "output_type": "display_data"
    },
    {
     "name": "stdout",
     "output_type": "stream",
     "text": [
      "アニュイティ: 1.998490138388887\n"
     ]
    }
   ],
   "source": [
    "# 固定ﾚｸﾞ leg(0)\n",
    "cf0 = pd.DataFrame({\n",
    "    'nominal':    cf.nominal(),\n",
    "    'accruStart': cf.accrualStartDate().ISO(),\n",
    "    'accruEnd':   cf.accrualEndDate().ISO(),\n",
    "    'payDate':    cf.date().ISO(),\n",
    "    'days':       cf.accrualEndDate() - cf.accrualStartDate(),\n",
    "    'rate':       cf.rate(),\n",
    "    'amount':     cf.amount(),\n",
    "    'DF':         curveOBJ.discount(cf.date())\n",
    "    } for cf in map(ql.as_coupon, swapOBJf.leg(0)))\n",
    "\n",
    "display( cf0.style.format({'nominal':'{:,.2f}', 'days':'{:.0f}', 'rate':'{:.5%}', \n",
    "                  'amount':'{:,.2f}', 'DF':'{:.8f}' }) )\n",
    "print('アニュイティ:', (cf0.days/365 * cf0.DF).sum() )"
   ]
  },
  {
   "cell_type": "code",
   "execution_count": null,
   "metadata": {},
   "outputs": [],
   "source": []
  }
 ],
 "metadata": {
  "interpreter": {
   "hash": "a077222d77dfe082b8f1dd562ad70e458ac2ab76993a0b248ab0476e32e9e8dd"
  },
  "kernelspec": {
   "display_name": "Python 3 (ipykernel)",
   "language": "python",
   "name": "python3"
  },
  "language_info": {
   "codemirror_mode": {
    "name": "ipython",
    "version": 3
   },
   "file_extension": ".py",
   "mimetype": "text/x-python",
   "name": "python",
   "nbconvert_exporter": "python",
   "pygments_lexer": "ipython3",
   "version": "3.9.7"
  }
 },
 "nbformat": 4,
 "nbformat_minor": 2
}
